{
 "cells": [
  {
   "cell_type": "markdown",
   "metadata": {},
   "source": [
    "## Założenia projektu"
   ]
  },
  {
   "cell_type": "markdown",
   "metadata": {},
   "source": [
    "W ramach projektu anaizowane będą ceny akcji spółek, których jednym z rodzajów działaności jest streaming filmów i seriali:\n",
    "* Netflix\n",
    "* Apple (Apple TV)\n",
    "* Warner Bros (HBO)\n",
    "* Disney (Disney+)\n",
    "* Amazon (Amazon Prime)\n",
    "* CBS (Showtime)\n",
    "\n",
    "Jako dodatkowa zmienna objaśniająca (poza samym szeregiem czasowym tj. historycznymi cenami akcji) uwzględniona zostanie liczba aktywnych subskrypcji ich serwisów streamingowych.\n",
    "Dane na temat cen spółek zostaną pozyskane ze strony https://www.nasdaq.com/ z wykorzystaniem biblioteki przeznaczonej dla języka Python i klucza API wygenerowanego dla konta studenckiego\n",
    "\n",
    "Dane na temat liczby uzytkowników poszczególnych platform pozyskane zostaną z innych źródeł (Statista). Te dane przedstawione są w formie kwartalnej.\n",
    "* Netflix - https://www.statista.com/statistics/250934/quarterly-number-of-netflix-streaming-subscribers-worldwide/\n",
    "* Apple TV - \n",
    "* HBO - https://www.statista.com/statistics/539290/hbo-now-subscribers/\n",
    "* Disney+ - https://www.statista.com/statistics/1095372/disney-plus-number-of-subscribers-us/\n",
    "* Amazon Prime - https://www.statista.com/statistics/504687/number-of-amazon-prime-subscription-households-usa/\n",
    "* Showtime - "
   ]
  },
  {
   "cell_type": "code",
   "execution_count": 18,
   "metadata": {},
   "outputs": [],
   "source": [
    "# %pip install Nasdaq-Data-Link"
   ]
  },
  {
   "cell_type": "code",
   "execution_count": 14,
   "metadata": {},
   "outputs": [],
   "source": [
    "import nasdaqdatalink\n",
    "import requests\n",
    "import pandas as pd\n",
    "import warnings\n",
    "\n",
    "warnings.filterwarnings('ignore')\n",
    "\n",
    "#Wygenerowany klucz dla konta\n",
    "nasdaqdatalink.ApiConfig.api_key = \"ibWexyU5CGhGxu2FxAT-\"\n"
   ]
  },
  {
   "attachments": {},
   "cell_type": "markdown",
   "metadata": {},
   "source": [
    "### Sprawdzenie dostępnych baz dnaych"
   ]
  },
  {
   "cell_type": "code",
   "execution_count": 12,
   "metadata": {},
   "outputs": [
    {
     "name": "stdout",
     "output_type": "stream",
     "text": [
      "(91, 11)\n"
     ]
    },
    {
     "data": {
      "text/html": [
       "<div>\n",
       "<style scoped>\n",
       "    .dataframe tbody tr th:only-of-type {\n",
       "        vertical-align: middle;\n",
       "    }\n",
       "\n",
       "    .dataframe tbody tr th {\n",
       "        vertical-align: top;\n",
       "    }\n",
       "\n",
       "    .dataframe thead th {\n",
       "        text-align: right;\n",
       "    }\n",
       "</style>\n",
       "<table border=\"1\" class=\"dataframe\">\n",
       "  <thead>\n",
       "    <tr style=\"text-align: right;\">\n",
       "      <th></th>\n",
       "      <th>id</th>\n",
       "      <th>name</th>\n",
       "      <th>database_code</th>\n",
       "      <th>description</th>\n",
       "      <th>datasets_count</th>\n",
       "      <th>downloads</th>\n",
       "      <th>premium</th>\n",
       "      <th>image</th>\n",
       "      <th>favorite</th>\n",
       "      <th>url_name</th>\n",
       "      <th>exclusive</th>\n",
       "    </tr>\n",
       "  </thead>\n",
       "  <tbody>\n",
       "    <tr>\n",
       "      <th>0</th>\n",
       "      <td>13111</td>\n",
       "      <td>Global Dairy Trade</td>\n",
       "      <td>GDT</td>\n",
       "      <td></td>\n",
       "      <td>702</td>\n",
       "      <td>370399</td>\n",
       "      <td>False</td>\n",
       "      <td>http://d360wc4uc6n3i9.cloudfront.net/images/de...</td>\n",
       "      <td>False</td>\n",
       "      <td>global-dairy-trade</td>\n",
       "      <td>False</td>\n",
       "    </tr>\n",
       "    <tr>\n",
       "      <th>1</th>\n",
       "      <td>454</td>\n",
       "      <td>Warsaw Stock Exchange</td>\n",
       "      <td>WARSAWSE</td>\n",
       "      <td>WIG20 index has been calculated since April 16...</td>\n",
       "      <td>35</td>\n",
       "      <td>14867</td>\n",
       "      <td>False</td>\n",
       "      <td>http://d360wc4uc6n3i9.cloudfront.net/images/de...</td>\n",
       "      <td>False</td>\n",
       "      <td>warsaw-stock-exchange</td>\n",
       "      <td>False</td>\n",
       "    </tr>\n",
       "  </tbody>\n",
       "</table>\n",
       "</div>"
      ],
      "text/plain": [
       "      id                   name database_code  \\\n",
       "0  13111     Global Dairy Trade           GDT   \n",
       "1    454  Warsaw Stock Exchange      WARSAWSE   \n",
       "\n",
       "                                         description  datasets_count  \\\n",
       "0                                                                702   \n",
       "1  WIG20 index has been calculated since April 16...              35   \n",
       "\n",
       "   downloads  premium                                              image  \\\n",
       "0     370399    False  http://d360wc4uc6n3i9.cloudfront.net/images/de...   \n",
       "1      14867    False  http://d360wc4uc6n3i9.cloudfront.net/images/de...   \n",
       "\n",
       "   favorite               url_name  exclusive  \n",
       "0     False     global-dairy-trade      False  \n",
       "1     False  warsaw-stock-exchange      False  "
      ]
     },
     "execution_count": 12,
     "metadata": {},
     "output_type": "execute_result"
    }
   ],
   "source": [
    "databases = pd.DataFrame(requests.get('https://data.nasdaq.com/api/v3/databases?download_type=full&api_key=ibWexyU5CGhGxu2FxAT-').json()['databases'])\n",
    "print(databases.shape)\n",
    "databases.head(2)"
   ]
  },
  {
   "cell_type": "code",
   "execution_count": 14,
   "metadata": {},
   "outputs": [
    {
     "data": {
      "text/html": [
       "<div>\n",
       "<style scoped>\n",
       "    .dataframe tbody tr th:only-of-type {\n",
       "        vertical-align: middle;\n",
       "    }\n",
       "\n",
       "    .dataframe tbody tr th {\n",
       "        vertical-align: top;\n",
       "    }\n",
       "\n",
       "    .dataframe thead th {\n",
       "        text-align: right;\n",
       "    }\n",
       "</style>\n",
       "<table border=\"1\" class=\"dataframe\">\n",
       "  <thead>\n",
       "    <tr style=\"text-align: right;\">\n",
       "      <th></th>\n",
       "      <th>id</th>\n",
       "      <th>name</th>\n",
       "      <th>database_code</th>\n",
       "      <th>description</th>\n",
       "      <th>datasets_count</th>\n",
       "      <th>downloads</th>\n",
       "      <th>premium</th>\n",
       "      <th>image</th>\n",
       "      <th>favorite</th>\n",
       "      <th>url_name</th>\n",
       "      <th>exclusive</th>\n",
       "    </tr>\n",
       "  </thead>\n",
       "  <tbody>\n",
       "  </tbody>\n",
       "</table>\n",
       "</div>"
      ],
      "text/plain": [
       "Empty DataFrame\n",
       "Columns: [id, name, database_code, description, datasets_count, downloads, premium, image, favorite, url_name, exclusive]\n",
       "Index: []"
      ]
     },
     "execution_count": 14,
     "metadata": {},
     "output_type": "execute_result"
    }
   ],
   "source": [
    "databases.loc[databases['database_code']=='WIKI']"
   ]
  },
  {
   "attachments": {},
   "cell_type": "markdown",
   "metadata": {},
   "source": [
    "WIKI/NFLX - Netflix"
   ]
  },
  {
   "cell_type": "code",
   "execution_count": 7,
   "metadata": {},
   "outputs": [],
   "source": [
    "# netflix_data = nasdaqdatalink.get(\"WIKI/NFLX\",rows=10)\n",
    "# wbd_data = nasdaqdatalink.get(\"WIKI/WBD\",rows=10)"
   ]
  },
  {
   "cell_type": "code",
   "execution_count": 76,
   "metadata": {},
   "outputs": [],
   "source": [
    "netflix_data = pd.read_csv('data/Netflix.csv')\n",
    "amazon_data = pd.read_csv('data/Amazon.csv')\n",
    "disney_data = pd.read_csv('data/Disney.csv')\n",
    "showtime_data = pd.read_csv('data/Paramount_Showtime.csv')\n",
    "hbo_data = pd.read_csv('data/WBD.csv')\n"
   ]
  },
  {
   "cell_type": "code",
   "execution_count": 77,
   "metadata": {},
   "outputs": [],
   "source": [
    "hbo_data['Open'] = hbo_data['Open'].str.replace('$','').astype(float)\n",
    "netflix_data['Open'] = netflix_data['Open'].str.replace('$','').astype(float)\n",
    "amazon_data['Open'] = amazon_data['Open'].str.replace('$','').astype(float)\n",
    "disney_data['Open'] = disney_data['Open'].str.replace('$','').astype(float)\n",
    "showtime_data['Open'] = showtime_data['Open'].str.replace('$','').astype(float)"
   ]
  },
  {
   "cell_type": "code",
   "execution_count": 78,
   "metadata": {},
   "outputs": [],
   "source": [
    "hbo_data = hbo_data.iloc[::-1]\n",
    "netflix_data = netflix_data.iloc[::-1]\n",
    "amazon_data = amazon_data.iloc[::-1]\n",
    "disney_data = disney_data.iloc[::-1]\n",
    "showtime_data = showtime_data.iloc[::-1]"
   ]
  },
  {
   "cell_type": "code",
   "execution_count": 79,
   "metadata": {},
   "outputs": [],
   "source": [
    "datasets = {'hbo':hbo_data,\n",
    "            'netflix':netflix_data,\n",
    "            'showtime':showtime_data,\n",
    "            'amazon':amazon_data,\n",
    "            'disney':disney_data}\n",
    "for key,value in datasets.items():\n",
    "    value['Date'] = pd.to_datetime(value['Date'],format='%m/%d/%Y')\n",
    "    value.set_index('Date',drop=True, inplace=True)"
   ]
  },
  {
   "cell_type": "markdown",
   "metadata": {},
   "source": [
    "### Przykładowe dane"
   ]
  },
  {
   "attachments": {},
   "cell_type": "markdown",
   "metadata": {},
   "source": [
    "## Testy statystyczne ceny otwarcia"
   ]
  },
  {
   "cell_type": "code",
   "execution_count": 80,
   "metadata": {},
   "outputs": [
    {
     "data": {
      "text/plain": [
       "<AxesSubplot:xlabel='Date'>"
      ]
     },
     "execution_count": 80,
     "metadata": {},
     "output_type": "execute_result"
    },
    {
     "data": {
      "image/png": "[encoded data removed]",
      "text/plain": [
       "<Figure size 640x480 with 1 Axes>"
      ]
     },
     "metadata": {},
     "output_type": "display_data"
    }
   ],
   "source": [
    "datasets['hbo']['Open'].plot()"
   ]
  },
  {
   "cell_type": "code",
   "execution_count": 81,
   "metadata": {},
   "outputs": [
    {
     "data": {
      "text/html": [
       "<div>\n",
       "<style scoped>\n",
       "    .dataframe tbody tr th:only-of-type {\n",
       "        vertical-align: middle;\n",
       "    }\n",
       "\n",
       "    .dataframe tbody tr th {\n",
       "        vertical-align: top;\n",
       "    }\n",
       "\n",
       "    .dataframe thead th {\n",
       "        text-align: right;\n",
       "    }\n",
       "</style>\n",
       "<table border=\"1\" class=\"dataframe\">\n",
       "  <thead>\n",
       "    <tr style=\"text-align: right;\">\n",
       "      <th></th>\n",
       "      <th>Close/Last</th>\n",
       "      <th>Volume</th>\n",
       "      <th>Open</th>\n",
       "      <th>High</th>\n",
       "      <th>Low</th>\n",
       "    </tr>\n",
       "    <tr>\n",
       "      <th>Date</th>\n",
       "      <th></th>\n",
       "      <th></th>\n",
       "      <th></th>\n",
       "      <th></th>\n",
       "      <th></th>\n",
       "    </tr>\n",
       "  </thead>\n",
       "  <tbody>\n",
       "    <tr>\n",
       "      <th>2018-03-26</th>\n",
       "      <td>$21.74</td>\n",
       "      <td>9727999</td>\n",
       "      <td>21.37</td>\n",
       "      <td>$21.81</td>\n",
       "      <td>$20.98</td>\n",
       "    </tr>\n",
       "    <tr>\n",
       "      <th>2018-03-27</th>\n",
       "      <td>$21.68</td>\n",
       "      <td>4162152</td>\n",
       "      <td>21.72</td>\n",
       "      <td>$22.20</td>\n",
       "      <td>$21.55</td>\n",
       "    </tr>\n",
       "    <tr>\n",
       "      <th>2018-03-28</th>\n",
       "      <td>$21.17</td>\n",
       "      <td>4578942</td>\n",
       "      <td>21.67</td>\n",
       "      <td>$21.93</td>\n",
       "      <td>$21.07</td>\n",
       "    </tr>\n",
       "    <tr>\n",
       "      <th>2018-03-29</th>\n",
       "      <td>$21.43</td>\n",
       "      <td>6120466</td>\n",
       "      <td>21.21</td>\n",
       "      <td>$21.61</td>\n",
       "      <td>$20.975</td>\n",
       "    </tr>\n",
       "    <tr>\n",
       "      <th>2018-04-02</th>\n",
       "      <td>$21.58</td>\n",
       "      <td>6425394</td>\n",
       "      <td>21.66</td>\n",
       "      <td>$22.115</td>\n",
       "      <td>$21.45</td>\n",
       "    </tr>\n",
       "    <tr>\n",
       "      <th>...</th>\n",
       "      <td>...</td>\n",
       "      <td>...</td>\n",
       "      <td>...</td>\n",
       "      <td>...</td>\n",
       "      <td>...</td>\n",
       "    </tr>\n",
       "    <tr>\n",
       "      <th>2023-03-20</th>\n",
       "      <td>$14.24</td>\n",
       "      <td>16431870</td>\n",
       "      <td>14.26</td>\n",
       "      <td>$14.54</td>\n",
       "      <td>$14.11</td>\n",
       "    </tr>\n",
       "    <tr>\n",
       "      <th>2023-03-21</th>\n",
       "      <td>$15.09</td>\n",
       "      <td>17627860</td>\n",
       "      <td>14.48</td>\n",
       "      <td>$15.14</td>\n",
       "      <td>$14.41</td>\n",
       "    </tr>\n",
       "    <tr>\n",
       "      <th>2023-03-22</th>\n",
       "      <td>$14.51</td>\n",
       "      <td>13584270</td>\n",
       "      <td>15.13</td>\n",
       "      <td>$15.2691</td>\n",
       "      <td>$14.48</td>\n",
       "    </tr>\n",
       "    <tr>\n",
       "      <th>2023-03-23</th>\n",
       "      <td>$14.53</td>\n",
       "      <td>11041960</td>\n",
       "      <td>14.67</td>\n",
       "      <td>$14.995</td>\n",
       "      <td>$14.235</td>\n",
       "    </tr>\n",
       "    <tr>\n",
       "      <th>2023-03-24</th>\n",
       "      <td>$14.00</td>\n",
       "      <td>12749220</td>\n",
       "      <td>14.20</td>\n",
       "      <td>$14.32</td>\n",
       "      <td>$13.72</td>\n",
       "    </tr>\n",
       "  </tbody>\n",
       "</table>\n",
       "<p>1259 rows × 5 columns</p>\n",
       "</div>"
      ],
      "text/plain": [
       "           Close/Last    Volume   Open      High      Low\n",
       "Date                                                     \n",
       "2018-03-26     $21.74   9727999  21.37    $21.81   $20.98\n",
       "2018-03-27     $21.68   4162152  21.72    $22.20   $21.55\n",
       "2018-03-28     $21.17   4578942  21.67    $21.93   $21.07\n",
       "2018-03-29     $21.43   6120466  21.21    $21.61  $20.975\n",
       "2018-04-02     $21.58   6425394  21.66   $22.115   $21.45\n",
       "...               ...       ...    ...       ...      ...\n",
       "2023-03-20     $14.24  16431870  14.26    $14.54   $14.11\n",
       "2023-03-21     $15.09  17627860  14.48    $15.14   $14.41\n",
       "2023-03-22     $14.51  13584270  15.13  $15.2691   $14.48\n",
       "2023-03-23     $14.53  11041960  14.67   $14.995  $14.235\n",
       "2023-03-24     $14.00  12749220  14.20    $14.32   $13.72\n",
       "\n",
       "[1259 rows x 5 columns]"
      ]
     },
     "execution_count": 81,
     "metadata": {},
     "output_type": "execute_result"
    }
   ],
   "source": [
    "datasets['hbo']"
   ]
  },
  {
   "attachments": {},
   "cell_type": "markdown",
   "metadata": {},
   "source": [
    "### Test jednostajności"
   ]
  },
  {
   "attachments": {},
   "cell_type": "markdown",
   "metadata": {},
   "source": [
    "### Test normlanosci rozkładu"
   ]
  },
  {
   "cell_type": "code",
   "execution_count": 91,
   "metadata": {},
   "outputs": [
    {
     "name": "stdout",
     "output_type": "stream",
     "text": [
      "Wyniki testów jednostajności Kołmogorova-Smirnova\n",
      "--------------------\n",
      "--------------------\n",
      "Hbo\n",
      "KstestResult(statistic=1.0, pvalue=0.0)\n",
      "Rozkład NIE JEST rozkładem normalnym\n",
      "--------------------\n",
      "Netflix\n",
      "KstestResult(statistic=1.0, pvalue=0.0)\n",
      "Rozkład NIE JEST rozkładem normalnym\n",
      "--------------------\n",
      "Showtime\n",
      "KstestResult(statistic=1.0, pvalue=0.0)\n",
      "Rozkład NIE JEST rozkładem normalnym\n",
      "--------------------\n",
      "Amazon\n",
      "KstestResult(statistic=1.0, pvalue=0.0)\n",
      "Rozkład NIE JEST rozkładem normalnym\n",
      "--------------------\n",
      "Disney\n",
      "KstestResult(statistic=1.0, pvalue=0.0)\n",
      "Rozkład NIE JEST rozkładem normalnym\n",
      "--------------------\n"
     ]
    }
   ],
   "source": [
    "from scipy.stats import kstest\n",
    "\n",
    "def test_normalnosci_rozkladu(data): \n",
    "    res = kstest(data,'norm')\n",
    "    print(res)\n",
    "    if res[1]<0.05:\n",
    "        print('Rozkład NIE JEST rozkładem normalnym')\n",
    "    else:\n",
    "        print('Rozkład JEST rozkładem normalnym')\n",
    "    print(20*'-')\n",
    "\n",
    "\n",
    "print('Wyniki testów jednostajności Kołmogorova-Smirnova')\n",
    "print(20*'-')\n",
    "print(20*'-')\n",
    "for name,data in datasets.items():\n",
    "    print(name.title())\n",
    "    test_normalnosci_rozkladu(data['Open'])\n",
    "    "
   ]
  },
  {
   "attachments": {},
   "cell_type": "markdown",
   "metadata": {},
   "source": [
    "### Test stacjonarności"
   ]
  },
  {
   "cell_type": "code",
   "execution_count": 94,
   "metadata": {},
   "outputs": [
    {
     "name": "stdout",
     "output_type": "stream",
     "text": [
      "Wyniki testów jednostajności Kołmogorova-Smirnova\n",
      "--------------------\n",
      "--------------------\n",
      "Hbo\n",
      "(-2.3164481171735325, 0.16671798783245212, 23, 1235, {'1%': -3.4356560275160835, '5%': -2.8638831211270817, '10%': -2.568017509711682}, 3380.6035816011986)\n",
      "Rozkład NIE JEST stacjonarny\n",
      "--------------------\n",
      "Netflix\n",
      "(-1.656621638237094, 0.4535893735048184, 0, 1258, {'1%': -3.4355588184378574, '5%': -2.8638402312881497, '10%': -2.5679946684494275}, 9396.547550768599)\n",
      "Rozkład NIE JEST stacjonarny\n",
      "--------------------\n",
      "Showtime\n",
      "(-2.073374120607253, 0.25535487776440513, 15, 1243, {'1%': -3.435621806786881, '5%': -2.8638680226791444, '10%': -2.5680094689100477}, 4095.876273576793)\n",
      "Rozkład NIE JEST stacjonarny\n",
      "--------------------\n",
      "Amazon\n",
      "(-1.6047687439543967, 0.48119756810647846, 1, 1257, {'1%': -3.4355629707955395, '5%': -2.863842063387667, '10%': -2.567995644141416}, 6129.570369575255)\n",
      "Rozkład NIE JEST stacjonarny\n",
      "--------------------\n",
      "Disney\n",
      "(-1.4512444892408702, 0.5574775387467671, 1, 1257, {'1%': -3.4355629707955395, '5%': -2.863842063387667, '10%': -2.567995644141416}, 5901.905670308843)\n",
      "Rozkład NIE JEST stacjonarny\n",
      "--------------------\n"
     ]
    }
   ],
   "source": [
    "from statsmodels.tsa.stattools import adfuller\n",
    "\n",
    "def test_stacjonarnosci(data): \n",
    "    res = adfuller(data)\n",
    "    print(res)\n",
    "    if res[1]<=0.05:\n",
    "        print('Rozkład JEST stacjonarny')\n",
    "    else:\n",
    "        print('Rozkład NIE JEST stacjonarny')\n",
    "    print(20*'-')\n",
    "\n",
    "\n",
    "print('Wyniki testów jednostajności Kołmogorova-Smirnova')\n",
    "print(20*'-')\n",
    "print(20*'-')\n",
    "for name,data in datasets.items():\n",
    "    print(name.title())\n",
    "    test_stacjonarnosci(data['Open'])\n",
    "    "
   ]
  },
  {
   "attachments": {},
   "cell_type": "markdown",
   "metadata": {},
   "source": [
    "### Test autokorelacji"
   ]
  },
  {
   "cell_type": "code",
   "execution_count": 109,
   "metadata": {},
   "outputs": [
    {
     "name": "stdout",
     "output_type": "stream",
     "text": [
      "Wyniki testów jednostajności Kołmogorova-Smirnova\n",
      "--------------------\n",
      "--------------------\n",
      "Hbo\n",
      "                            OLS Regression Results                            \n",
      "==============================================================================\n",
      "Dep. Variable:                   Open   R-squared:                       0.141\n",
      "Model:                            OLS   Adj. R-squared:                  0.140\n",
      "Method:                 Least Squares   F-statistic:                     206.1\n",
      "Date:                Sun, 26 Mar 2023   Prob (F-statistic):           2.16e-43\n",
      "Time:                        21:56:36   Log-Likelihood:                -4437.9\n",
      "No. Observations:                1259   AIC:                             8880.\n",
      "Df Residuals:                    1257   BIC:                             8890.\n",
      "Df Model:                           1                                         \n",
      "Covariance Type:            nonrobust                                         \n",
      "==============================================================================\n",
      "                 coef    std err          t      P>|t|      [0.025      0.975]\n",
      "------------------------------------------------------------------------------\n",
      "const         31.5798      0.463     68.185      0.000      30.671      32.488\n",
      "x1            -0.0092      0.001    -14.356      0.000      -0.010      -0.008\n",
      "==============================================================================\n",
      "Omnibus:                      726.470   Durbin-Watson:                   0.014\n",
      "Prob(Omnibus):                  0.000   Jarque-Bera (JB):             7222.035\n",
      "Skew:                           2.528   Prob(JB):                         0.00\n",
      "Kurtosis:                      13.588   Cond. No.                     1.45e+03\n",
      "==============================================================================\n",
      "\n",
      "Notes:\n",
      "[1] Standard Errors assume that the covariance matrix of the errors is correctly specified.\n",
      "[2] The condition number is large, 1.45e+03. This might indicate that there are\n",
      "strong multicollinearity or other numerical problems.\n",
      "--------------------\n",
      "Netflix\n",
      "                            OLS Regression Results                            \n",
      "==============================================================================\n",
      "Dep. Variable:                   Open   R-squared:                       0.007\n",
      "Model:                            OLS   Adj. R-squared:                  0.006\n",
      "Method:                 Least Squares   F-statistic:                     9.059\n",
      "Date:                Sun, 26 Mar 2023   Prob (F-statistic):            0.00267\n",
      "Time:                        21:56:36   Log-Likelihood:                -7781.5\n",
      "No. Observations:                1259   AIC:                         1.557e+04\n",
      "Df Residuals:                    1257   BIC:                         1.558e+04\n",
      "Df Model:                           1                                         \n",
      "Covariance Type:            nonrobust                                         \n",
      "==============================================================================\n",
      "                 coef    std err          t      P>|t|      [0.025      0.975]\n",
      "------------------------------------------------------------------------------\n",
      "const        373.3168      6.594     56.619      0.000     360.381     386.252\n",
      "x1             0.0273      0.009      3.010      0.003       0.010       0.045\n",
      "==============================================================================\n",
      "Omnibus:                       43.652   Durbin-Watson:                   0.009\n",
      "Prob(Omnibus):                  0.000   Jarque-Bera (JB):               29.341\n",
      "Skew:                           0.253   Prob(JB):                     4.25e-07\n",
      "Kurtosis:                       2.450   Cond. No.                     1.45e+03\n",
      "==============================================================================\n",
      "\n",
      "Notes:\n",
      "[1] Standard Errors assume that the covariance matrix of the errors is correctly specified.\n",
      "[2] The condition number is large, 1.45e+03. This might indicate that there are\n",
      "strong multicollinearity or other numerical problems.\n",
      "--------------------\n",
      "Showtime\n",
      "                            OLS Regression Results                            \n",
      "==============================================================================\n",
      "Dep. Variable:                   Open   R-squared:                       0.396\n",
      "Model:                            OLS   Adj. R-squared:                  0.395\n",
      "Method:                 Least Squares   F-statistic:                     823.6\n",
      "Date:                Sun, 26 Mar 2023   Prob (F-statistic):          9.97e-140\n",
      "Time:                        21:56:36   Log-Likelihood:                -4745.6\n",
      "No. Observations:                1259   AIC:                             9495.\n",
      "Df Residuals:                    1257   BIC:                             9506.\n",
      "Df Model:                           1                                         \n",
      "Covariance Type:            nonrobust                                         \n",
      "==============================================================================\n",
      "                 coef    std err          t      P>|t|      [0.025      0.975]\n",
      "------------------------------------------------------------------------------\n",
      "const         52.6399      0.591     89.008      0.000      51.480      53.800\n",
      "x1            -0.0234      0.001    -28.699      0.000      -0.025      -0.022\n",
      "==============================================================================\n",
      "Omnibus:                      372.187   Durbin-Watson:                   0.016\n",
      "Prob(Omnibus):                  0.000   Jarque-Bera (JB):             3334.427\n",
      "Skew:                           1.104   Prob(JB):                         0.00\n",
      "Kurtosis:                      10.661   Cond. No.                     1.45e+03\n",
      "==============================================================================\n",
      "\n",
      "Notes:\n",
      "[1] Standard Errors assume that the covariance matrix of the errors is correctly specified.\n",
      "[2] The condition number is large, 1.45e+03. This might indicate that there are\n",
      "strong multicollinearity or other numerical problems.\n",
      "--------------------\n",
      "Amazon\n",
      "                            OLS Regression Results                            \n",
      "==============================================================================\n",
      "Dep. Variable:                   Open   R-squared:                       0.271\n",
      "Model:                            OLS   Adj. R-squared:                  0.271\n",
      "Method:                 Least Squares   F-statistic:                     468.2\n",
      "Date:                Sun, 26 Mar 2023   Prob (F-statistic):           1.63e-88\n",
      "Time:                        21:56:36   Log-Likelihood:                -6043.8\n",
      "No. Observations:                1259   AIC:                         1.209e+04\n",
      "Df Residuals:                    1257   BIC:                         1.210e+04\n",
      "Df Model:                           1                                         \n",
      "Covariance Type:            nonrobust                                         \n",
      "==============================================================================\n",
      "                 coef    std err          t      P>|t|      [0.025      0.975]\n",
      "------------------------------------------------------------------------------\n",
      "const         89.9401      1.658     54.233      0.000      86.687      93.194\n",
      "x1             0.0494      0.002     21.638      0.000       0.045       0.054\n",
      "==============================================================================\n",
      "Omnibus:                      148.530   Durbin-Watson:                   0.010\n",
      "Prob(Omnibus):                  0.000   Jarque-Bera (JB):               40.540\n",
      "Skew:                          -0.031   Prob(JB):                     1.57e-09\n",
      "Kurtosis:                       2.123   Cond. No.                     1.45e+03\n",
      "==============================================================================\n",
      "\n",
      "Notes:\n",
      "[1] Standard Errors assume that the covariance matrix of the errors is correctly specified.\n",
      "[2] The condition number is large, 1.45e+03. This might indicate that there are\n",
      "strong multicollinearity or other numerical problems.\n",
      "--------------------\n",
      "Disney\n",
      "                            OLS Regression Results                            \n",
      "==============================================================================\n",
      "Dep. Variable:                   Open   R-squared:                       0.016\n",
      "Model:                            OLS   Adj. R-squared:                  0.015\n",
      "Method:                 Least Squares   F-statistic:                     20.39\n",
      "Date:                Sun, 26 Mar 2023   Prob (F-statistic):           6.92e-06\n",
      "Time:                        21:56:36   Log-Likelihood:                -5987.8\n",
      "No. Observations:                1259   AIC:                         1.198e+04\n",
      "Df Residuals:                    1257   BIC:                         1.199e+04\n",
      "Df Model:                           1                                         \n",
      "Covariance Type:            nonrobust                                         \n",
      "==============================================================================\n",
      "                 coef    std err          t      P>|t|      [0.025      0.975]\n",
      "------------------------------------------------------------------------------\n",
      "const        124.8444      1.586     78.706      0.000     121.732     127.956\n",
      "x1             0.0099      0.002      4.515      0.000       0.006       0.014\n",
      "==============================================================================\n",
      "Omnibus:                      102.587   Durbin-Watson:                   0.009\n",
      "Prob(Omnibus):                  0.000   Jarque-Bera (JB):               69.657\n",
      "Skew:                           0.461   Prob(JB):                     7.49e-16\n",
      "Kurtosis:                       2.309   Cond. No.                     1.45e+03\n",
      "==============================================================================\n",
      "\n",
      "Notes:\n",
      "[1] Standard Errors assume that the covariance matrix of the errors is correctly specified.\n",
      "[2] The condition number is large, 1.45e+03. This might indicate that there are\n",
      "strong multicollinearity or other numerical problems.\n",
      "--------------------\n"
     ]
    }
   ],
   "source": [
    "import statsmodels.api as sm\n",
    "\n",
    "def test_stacjonarnosci(data): \n",
    "    res = adfuller(data)\n",
    "    print(res)\n",
    "    if res[1]<=0.05:\n",
    "        print('Rozkład JEST stacjonarny')\n",
    "    else:\n",
    "        print('Rozkład NIE JEST stacjonarny')\n",
    "    print(20*'-')\n",
    "\n",
    "\n",
    "print('Wyniki testów jednostajności Kołmogorova-Smirnova')\n",
    "print(20*'-')\n",
    "print(20*'-')\n",
    "for name,data in datasets.items():\n",
    "    print(name.title())\n",
    "    X = sm.add_constant([x for x in range(data.shape[0])])\n",
    "    y = data['Open']\n",
    "    reg = sm.OLS(y, X).fit()\n",
    "    print(reg.summary())\n",
    "    print(20*'-')\n"
   ]
  },
  {
   "cell_type": "markdown",
   "metadata": {},
   "source": [
    "Uwagi: czy stawiane prognonozy będą w okresie kwartalnym? czy zamierzają Panowie zbudować model z różnymi częstotliwościami? Jakich okresów będą dotyczyły analizy i prognozy? czy w tym okresie występują jakies zmiany strukturalne?"
   ]
  }
 ],
 "metadata": {
  "kernelspec": {
   "display_name": "Python 3",
   "language": "python",
   "name": "python3"
  },
  "language_info": {
   "codemirror_mode": {
    "name": "ipython",
    "version": 3
   },
   "file_extension": ".py",
   "mimetype": "text/x-python",
   "name": "python",
   "nbconvert_exporter": "python",
   "pygments_lexer": "ipython3",
   "version": "3.8.8"
  }
 },
 "nbformat": 4,
 "nbformat_minor": 2
}
