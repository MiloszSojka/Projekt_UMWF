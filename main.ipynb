{
 "cells": [
  {
   "attachments": {},
   "cell_type": "markdown",
   "metadata": {},
   "source": [
    "## Założenia projektu"
   ]
  },
  {
   "attachments": {},
   "cell_type": "markdown",
   "metadata": {},
   "source": [
    "W ramach projektu anaizowane będą ceny akcji spółek, których jednym z rodzajów działaności jest streaming filmów i seriali:\n",
    "* Netflix\n",
    "* Apple (Apple TV)\n",
    "* Warner Bros (HBO)\n",
    "* Disney (Disney+)\n",
    "* Amazon (Amazon Prime)\n",
    "* CBS (Showtime)\n",
    "\n",
    "Jako dodatkowa zmienna objaśniająca (poza samym szeregiem czasowym tj. historycznymi cenami akcji) uwzględniona zostanie liczba aktywnych subskrypcji ich serwisów streamingowych.\n",
    "Dane na temat cen spółek zostaną pozyskane ze strony https://www.nasdaq.com/ z wykorzystaniem biblioteki przeznaczonej dla języka Python i klucza API wygenerowanego dla konta studenckiego\n",
    "\n",
    "Dane na temat liczby uzytkowników poszczególnych platform pozyskane zostaną z innych źródeł (Statista). Te dane przedstawione są w formie kwartalnej.\n",
    "* Netflix - https://www.statista.com/statistics/250934/quarterly-number-of-netflix-streaming-subscribers-worldwide/\n",
    "* Apple TV - \n",
    "* HBO - https://www.businessofapps.com/data/hbo-max-statistics/ https://www.statista.com/statistics/539290/hbo-now-subscribers/\n",
    "* Disney+ - https://www.statista.com/statistics/1095372/disney-plus-number-of-subscribers-us/\n",
    "* Amazon Prime - https://techjury.net/blog/amazon-prime-statistics/ https://www.statista.com/statistics/504687/number-of-amazon-prime-subscription-households-usa/\n",
    "* Showtime - https://www.statista.com/statistics/1047393/cbs-all-access-subscribers-us/"
   ]
  },
  {
   "cell_type": "code",
   "execution_count": 18,
   "metadata": {},
   "outputs": [],
   "source": [
    "# %pip install Nasdaq-Data-Link"
   ]
  },
  {
   "cell_type": "code",
   "execution_count": 81,
   "metadata": {},
   "outputs": [],
   "source": [
    "import nasdaqdatalink\n",
    "import requests\n",
    "import pandas as pd\n",
    "import warnings\n",
    "import datetime\n",
    "import matplotlib.pyplot as plt\n",
    "from tqdm import tqdm\n",
    "\n",
    "warnings.filterwarnings('ignore')\n",
    "\n",
    "#Wygenerowany klucz dla konta\n",
    "nasdaqdatalink.ApiConfig.api_key = \"ibWexyU5CGhGxu2FxAT-\"\n"
   ]
  },
  {
   "attachments": {},
   "cell_type": "markdown",
   "metadata": {},
   "source": [
    "### Sprawdzenie dostępnych baz dnaych"
   ]
  },
  {
   "cell_type": "code",
   "execution_count": 2,
   "metadata": {},
   "outputs": [
    {
     "name": "stdout",
     "output_type": "stream",
     "text": [
      "(91, 11)\n"
     ]
    },
    {
     "data": {
      "text/html": [
       "<div>\n",
       "<style scoped>\n",
       "    .dataframe tbody tr th:only-of-type {\n",
       "        vertical-align: middle;\n",
       "    }\n",
       "\n",
       "    .dataframe tbody tr th {\n",
       "        vertical-align: top;\n",
       "    }\n",
       "\n",
       "    .dataframe thead th {\n",
       "        text-align: right;\n",
       "    }\n",
       "</style>\n",
       "<table border=\"1\" class=\"dataframe\">\n",
       "  <thead>\n",
       "    <tr style=\"text-align: right;\">\n",
       "      <th></th>\n",
       "      <th>id</th>\n",
       "      <th>name</th>\n",
       "      <th>database_code</th>\n",
       "      <th>description</th>\n",
       "      <th>datasets_count</th>\n",
       "      <th>downloads</th>\n",
       "      <th>premium</th>\n",
       "      <th>image</th>\n",
       "      <th>favorite</th>\n",
       "      <th>url_name</th>\n",
       "      <th>exclusive</th>\n",
       "    </tr>\n",
       "  </thead>\n",
       "  <tbody>\n",
       "    <tr>\n",
       "      <th>0</th>\n",
       "      <td>13111</td>\n",
       "      <td>Global Dairy Trade</td>\n",
       "      <td>GDT</td>\n",
       "      <td></td>\n",
       "      <td>702</td>\n",
       "      <td>370399</td>\n",
       "      <td>False</td>\n",
       "      <td>http://d360wc4uc6n3i9.cloudfront.net/images/de...</td>\n",
       "      <td>False</td>\n",
       "      <td>global-dairy-trade</td>\n",
       "      <td>False</td>\n",
       "    </tr>\n",
       "    <tr>\n",
       "      <th>1</th>\n",
       "      <td>454</td>\n",
       "      <td>Warsaw Stock Exchange</td>\n",
       "      <td>WARSAWSE</td>\n",
       "      <td>WIG20 index has been calculated since April 16...</td>\n",
       "      <td>35</td>\n",
       "      <td>14867</td>\n",
       "      <td>False</td>\n",
       "      <td>http://d360wc4uc6n3i9.cloudfront.net/images/de...</td>\n",
       "      <td>False</td>\n",
       "      <td>warsaw-stock-exchange</td>\n",
       "      <td>False</td>\n",
       "    </tr>\n",
       "  </tbody>\n",
       "</table>\n",
       "</div>"
      ],
      "text/plain": [
       "      id                   name database_code   \n",
       "0  13111     Global Dairy Trade           GDT  \\\n",
       "1    454  Warsaw Stock Exchange      WARSAWSE   \n",
       "\n",
       "                                         description  datasets_count   \n",
       "0                                                                702  \\\n",
       "1  WIG20 index has been calculated since April 16...              35   \n",
       "\n",
       "   downloads  premium                                              image   \n",
       "0     370399    False  http://d360wc4uc6n3i9.cloudfront.net/images/de...  \\\n",
       "1      14867    False  http://d360wc4uc6n3i9.cloudfront.net/images/de...   \n",
       "\n",
       "   favorite               url_name  exclusive  \n",
       "0     False     global-dairy-trade      False  \n",
       "1     False  warsaw-stock-exchange      False  "
      ]
     },
     "execution_count": 2,
     "metadata": {},
     "output_type": "execute_result"
    }
   ],
   "source": [
    "databases = pd.DataFrame(requests.get('https://data.nasdaq.com/api/v3/databases?download_type=full&api_key=ibWexyU5CGhGxu2FxAT-').json()['databases'])\n",
    "print(databases.shape)\n",
    "databases.head(2)"
   ]
  },
  {
   "cell_type": "code",
   "execution_count": 3,
   "metadata": {},
   "outputs": [
    {
     "data": {
      "text/html": [
       "<div>\n",
       "<style scoped>\n",
       "    .dataframe tbody tr th:only-of-type {\n",
       "        vertical-align: middle;\n",
       "    }\n",
       "\n",
       "    .dataframe tbody tr th {\n",
       "        vertical-align: top;\n",
       "    }\n",
       "\n",
       "    .dataframe thead th {\n",
       "        text-align: right;\n",
       "    }\n",
       "</style>\n",
       "<table border=\"1\" class=\"dataframe\">\n",
       "  <thead>\n",
       "    <tr style=\"text-align: right;\">\n",
       "      <th></th>\n",
       "      <th>id</th>\n",
       "      <th>name</th>\n",
       "      <th>database_code</th>\n",
       "      <th>description</th>\n",
       "      <th>datasets_count</th>\n",
       "      <th>downloads</th>\n",
       "      <th>premium</th>\n",
       "      <th>image</th>\n",
       "      <th>favorite</th>\n",
       "      <th>url_name</th>\n",
       "      <th>exclusive</th>\n",
       "    </tr>\n",
       "  </thead>\n",
       "  <tbody>\n",
       "  </tbody>\n",
       "</table>\n",
       "</div>"
      ],
      "text/plain": [
       "Empty DataFrame\n",
       "Columns: [id, name, database_code, description, datasets_count, downloads, premium, image, favorite, url_name, exclusive]\n",
       "Index: []"
      ]
     },
     "execution_count": 3,
     "metadata": {},
     "output_type": "execute_result"
    }
   ],
   "source": [
    "databases.loc[databases['database_code']=='WIKI']"
   ]
  },
  {
   "attachments": {},
   "cell_type": "markdown",
   "metadata": {},
   "source": [
    "WIKI/NFLX - Netflix"
   ]
  },
  {
   "cell_type": "code",
   "execution_count": 4,
   "metadata": {},
   "outputs": [],
   "source": [
    "# netflix_data = nasdaqdatalink.get(\"WIKI/NFLX\",rows=10)\n",
    "# wbd_data = nasdaqdatalink.get(\"WIKI/WBD\",rows=10)"
   ]
  },
  {
   "cell_type": "code",
   "execution_count": 5,
   "metadata": {},
   "outputs": [],
   "source": [
    "netflix_data = pd.read_csv('data/Netflix.csv')\n",
    "amazon_data = pd.read_csv('data/Amazon.csv')\n",
    "disney_data = pd.read_csv('data/Disney.csv')\n",
    "showtime_data = pd.read_csv('data/Paramount_Showtime.csv')\n",
    "hbo_data = pd.read_csv('data/WBD.csv')\n"
   ]
  },
  {
   "cell_type": "code",
   "execution_count": 6,
   "metadata": {},
   "outputs": [],
   "source": [
    "hbo_data['Open'] = hbo_data['Open'].str.replace('$','').astype(float)\n",
    "netflix_data['Open'] = netflix_data['Open'].str.replace('$','').astype(float)\n",
    "amazon_data['Open'] = amazon_data['Open'].str.replace('$','').astype(float)\n",
    "disney_data['Open'] = disney_data['Open'].str.replace('$','').astype(float)\n",
    "showtime_data['Open'] = showtime_data['Open'].str.replace('$','').astype(float)"
   ]
  },
  {
   "cell_type": "code",
   "execution_count": 7,
   "metadata": {},
   "outputs": [],
   "source": [
    "hbo_data = hbo_data.iloc[::-1]\n",
    "netflix_data = netflix_data.iloc[::-1]\n",
    "amazon_data = amazon_data.iloc[::-1]\n",
    "disney_data = disney_data.iloc[::-1]\n",
    "showtime_data = showtime_data.iloc[::-1]"
   ]
  },
  {
   "cell_type": "code",
   "execution_count": 8,
   "metadata": {},
   "outputs": [],
   "source": [
    "datasets = {'hbo':hbo_data,\n",
    "            'netflix':netflix_data,\n",
    "            'showtime':showtime_data,\n",
    "            # 'amazon':amazon_data,\n",
    "            'disney':disney_data}\n",
    "for key,value in datasets.items():\n",
    "    value['Date'] = pd.to_datetime(value['Date'],format='%m/%d/%Y')\n",
    "    value['Quarter'] = value['Date'].dt.to_period('Q')\n",
    "    value_out = value.loc[value['Date'].dt.date.between(datetime.date(2020,1,1),datetime.date(2022,6,30))]\n",
    "    value_out.drop(['Close/Last','High','Low'],axis=1,inplace=True)\n",
    "    datasets[key] = value_out\n",
    "    "
   ]
  },
  {
   "attachments": {},
   "cell_type": "markdown",
   "metadata": {},
   "source": [
    "### Dodanie zmiennej z liczbą subskrypcji wyrazoną kwartalnie"
   ]
  },
  {
   "cell_type": "code",
   "execution_count": 9,
   "metadata": {},
   "outputs": [],
   "source": [
    "netflix_subs = pd.read_excel('data/subscribers/Netflix_subscribers.xlsx',sheet_name='data_prepared')\n",
    "amazon_subs = pd.read_excel('data/subscribers/Amazon_prime_users.xlsx',sheet_name='data_prepared')\n",
    "disney_subs = pd.read_excel('data/subscribers/disney_plus.xlsx',sheet_name='data_prepared')\n",
    "showtime_subs = pd.read_excel('data/subscribers/Paramount.xlsx',sheet_name='data_prepared')\n",
    "hbo_subs = pd.read_excel('data/subscribers/hbo_worldwide.xlsx',sheet_name='data_prepared')"
   ]
  },
  {
   "cell_type": "code",
   "execution_count": 10,
   "metadata": {},
   "outputs": [],
   "source": [
    "netflix_subs['Quarter'] = netflix_subs['Time'].dt.to_period('Q')\n",
    "# amazon_subs['Quarter'] = amazon_subs['Time'].dt.to_period('Q')\n",
    "disney_subs['Quarter'] = disney_subs['Time'].dt.to_period('Q')\n",
    "showtime_subs['Quarter'] = showtime_subs['Time'].dt.to_period('Q')\n",
    "hbo_subs['Quarter'] = hbo_subs['Time'].dt.to_period('Q')"
   ]
  },
  {
   "cell_type": "code",
   "execution_count": 11,
   "metadata": {},
   "outputs": [],
   "source": [
    "datasets['hbo'] = pd.merge(datasets['hbo'],hbo_subs,on='Quarter')[['Date','Open','Volume','NO(milions)']]\n",
    "datasets['netflix'] = pd.merge(datasets['netflix'],netflix_subs,on='Quarter')[['Date','Open','Volume','NO(milions)']]\n",
    "datasets['disney'] = pd.merge(datasets['disney'],disney_subs,on='Quarter')[['Date','Open','Volume','NO(milions)']]\n",
    "datasets['showtime'] = pd.merge(datasets['showtime'],showtime_subs,on='Quarter')[['Date','Open','Volume','NO(milions)']]\n",
    "# datasets['amazon'] = pd.merge(datasets['amazon'],amazon_subs,on='Quarter')[['Date','Open','Volume','NO(milions)']]"
   ]
  },
  {
   "attachments": {},
   "cell_type": "markdown",
   "metadata": {},
   "source": [
    "## Testy statystyczne ceny otwarcia"
   ]
  },
  {
   "cell_type": "code",
   "execution_count": 12,
   "metadata": {},
   "outputs": [
    {
     "data": {
      "text/plain": [
       "[]"
      ]
     },
     "execution_count": 12,
     "metadata": {},
     "output_type": "execute_result"
    },
    {
     "data": {
      "image/png": "[encoded data removed]",
      "text/plain": [
       "<Figure size 2000x1000 with 1 Axes>"
      ]
     },
     "metadata": {},
     "output_type": "display_data"
    }
   ],
   "source": [
    "fig,ax = plt.subplots(figsize=(20,10))\n",
    "for key,value in datasets.items():\n",
    "    value.plot(ax = ax, x='Date',y='NO(milions)',label=key)\n",
    "\n",
    "plt.plot()\n"
   ]
  },
  {
   "cell_type": "code",
   "execution_count": 13,
   "metadata": {},
   "outputs": [
    {
     "data": {
      "text/plain": [
       "[]"
      ]
     },
     "execution_count": 13,
     "metadata": {},
     "output_type": "execute_result"
    },
    {
     "data": {
      "image/png": "[encoded data removed]",
      "text/plain": [
       "<Figure size 2000x1000 with 1 Axes>"
      ]
     },
     "metadata": {},
     "output_type": "display_data"
    }
   ],
   "source": [
    "fig,ax = plt.subplots(figsize=(20,10))\n",
    "for key,value in datasets.items():\n",
    "    value.plot(ax = ax, x='Date',y='Open',label=key)\n",
    "\n",
    "plt.plot()\n"
   ]
  },
  {
   "attachments": {},
   "cell_type": "markdown",
   "metadata": {},
   "source": [
    "### Test normlanosci rozkładu"
   ]
  },
  {
   "cell_type": "code",
   "execution_count": 14,
   "metadata": {},
   "outputs": [
    {
     "name": "stdout",
     "output_type": "stream",
     "text": [
      "Wyniki testów Kołmogorova-Smirnova\n",
      "--------------------\n",
      "--------------------\n",
      "Hbo\n",
      "KstestResult(statistic=1.0, pvalue=0.0)\n",
      "Rozkład NIE JEST rozkładem normalnym\n",
      "--------------------\n",
      "Netflix\n",
      "KstestResult(statistic=1.0, pvalue=0.0)\n",
      "Rozkład NIE JEST rozkładem normalnym\n",
      "--------------------\n",
      "Showtime\n",
      "KstestResult(statistic=1.0, pvalue=0.0)\n",
      "Rozkład NIE JEST rozkładem normalnym\n",
      "--------------------\n",
      "Disney\n",
      "KstestResult(statistic=1.0, pvalue=0.0)\n",
      "Rozkład NIE JEST rozkładem normalnym\n",
      "--------------------\n"
     ]
    }
   ],
   "source": [
    "from scipy.stats import kstest\n",
    "\n",
    "def test_normalnosci_rozkladu(data): \n",
    "    res = kstest(data,'norm')\n",
    "    print(res)\n",
    "    if res[1]<0.05:\n",
    "        print('Rozkład NIE JEST rozkładem normalnym')\n",
    "    else:\n",
    "        print('Rozkład JEST rozkładem normalnym')\n",
    "    print(20*'-')\n",
    "\n",
    "\n",
    "print('Wyniki testów Kołmogorova-Smirnova')\n",
    "print(20*'-')\n",
    "print(20*'-')\n",
    "for name,data in datasets.items():\n",
    "    print(name.title())\n",
    "    test_normalnosci_rozkladu(data['Open'])\n",
    "    "
   ]
  },
  {
   "attachments": {},
   "cell_type": "markdown",
   "metadata": {},
   "source": [
    "### Test stacjonarności"
   ]
  },
  {
   "cell_type": "code",
   "execution_count": 15,
   "metadata": {},
   "outputs": [
    {
     "name": "stdout",
     "output_type": "stream",
     "text": [
      "Wyniki testów stacjonarności\n",
      "--------------------\n",
      "--------------------\n",
      "Hbo\n",
      "(-2.291221010520913, 0.17481500512258596, 12, 616, {'1%': -3.4410103235939746, '5%': -2.866243374831338, '10%': -2.5692748053002195}, 1983.5656663675109)\n",
      "Rozkład NIE JEST stacjonarny\n",
      "--------------------\n",
      "Netflix\n",
      "(-0.46783059854837267, 0.8981427410596268, 0, 628, {'1%': -3.4408057813848147, '5%': -2.866153285929353, '10%': -2.569226804028561}, 4813.012027785948)\n",
      "Rozkład NIE JEST stacjonarny\n",
      "--------------------\n",
      "Showtime\n",
      "(-2.3846045873814363, 0.146128879706734, 13, 615, {'1%': -3.4410277306083668, '5%': -2.8662510413264357, '10%': -2.569278890210853}, 2316.502983367551)\n",
      "Rozkład NIE JEST stacjonarny\n",
      "--------------------\n",
      "Disney\n",
      "(-0.6190401880684023, 0.8666214244763906, 1, 627, {'1%': -3.440822526288827, '5%': -2.8661606613087542, '10%': -2.5692307337540603}, 3145.409357163393)\n",
      "Rozkład NIE JEST stacjonarny\n",
      "--------------------\n"
     ]
    }
   ],
   "source": [
    "from statsmodels.tsa.stattools import adfuller\n",
    "\n",
    "def test_stacjonarnosci(data): \n",
    "    res = adfuller(data)\n",
    "    print(res)\n",
    "    if res[1]<=0.05:\n",
    "        print('Rozkład JEST stacjonarny')\n",
    "    else:\n",
    "        print('Rozkład NIE JEST stacjonarny')\n",
    "    print(20*'-')\n",
    "\n",
    "\n",
    "print('Wyniki testów stacjonarności')\n",
    "print(20*'-')\n",
    "print(20*'-')\n",
    "for name,data in datasets.items():\n",
    "    print(name.title())\n",
    "    test_stacjonarnosci(data['Open'])\n",
    "    "
   ]
  },
  {
   "attachments": {},
   "cell_type": "markdown",
   "metadata": {},
   "source": [
    "### Test autokorelacji"
   ]
  },
  {
   "cell_type": "code",
   "execution_count": 16,
   "metadata": {},
   "outputs": [
    {
     "name": "stdout",
     "output_type": "stream",
     "text": [
      "Wyniki testów autokorelacji\n",
      "--------------------\n",
      "--------------------\n",
      "Hbo\n",
      "Mocna dodania autokorelacja\n",
      "--------------------\n",
      "Netflix\n",
      "Mocna dodania autokorelacja\n",
      "--------------------\n",
      "Showtime\n",
      "Mocna dodania autokorelacja\n",
      "--------------------\n",
      "Disney\n",
      "Mocna dodania autokorelacja\n",
      "--------------------\n"
     ]
    }
   ],
   "source": [
    "from statsmodels.stats.stattools import durbin_watson\n",
    "\n",
    "def test_autokorelacji(wynik): \n",
    "    if 0<=wynik<1:\n",
    "        print('Mocna dodania autokorelacja')\n",
    "    elif 1<wynik<=1.8:\n",
    "        print('Dodania autokorelacja')\n",
    "    elif 1.8<wynik<=2.2:\n",
    "        print('Brak autokorelacji')\n",
    "    elif 2.2<wynik<=3:\n",
    "        print('Ujemna autokorelacja')\n",
    "    else:\n",
    "        print('Mocno ujemna autokrelacja')\n",
    "    print(20*'-')\n",
    "\n",
    "print('Wyniki testów autokorelacji')\n",
    "print(20*'-')\n",
    "print(20*'-')\n",
    "for name,data in datasets.items():\n",
    "    print(name.title())\n",
    "    test_autokorelacji(durbin_watson(data['Volume']))"
   ]
  },
  {
   "attachments": {},
   "cell_type": "markdown",
   "metadata": {},
   "source": [
    "### Korelacja zmiennych ceny otwarcia i liczby subskrybentów"
   ]
  },
  {
   "cell_type": "code",
   "execution_count": 17,
   "metadata": {},
   "outputs": [
    {
     "name": "stdout",
     "output_type": "stream",
     "text": [
      "Wyniki testów korelacji zmiennych\n",
      "--------------------\n",
      "--------------------\n",
      "Hbo\n",
      "SpearmanrResult(correlation=0.010945307819552394, pvalue=0.7841083616784577)\n",
      "Brak korelacji\n",
      "--------------------\n",
      "--------------------\n",
      "Netflix\n",
      "SpearmanrResult(correlation=0.344496869092994, pvalue=5.7630111554248065e-19)\n",
      "Niska korelacja dodania\n",
      "--------------------\n",
      "--------------------\n",
      "Showtime\n",
      "SpearmanrResult(correlation=0.3189457468740985, pvalue=2.4385307115109247e-16)\n",
      "Niska korelacja dodania\n",
      "--------------------\n",
      "--------------------\n",
      "Disney\n",
      "SpearmanrResult(correlation=0.23330106199374331, pvalue=3.1916209309354743e-09)\n",
      "Niska korelacja dodania\n",
      "--------------------\n",
      "--------------------\n"
     ]
    }
   ],
   "source": [
    "from scipy.stats import spearmanr\n",
    "\n",
    "\n",
    "def test_korelacji(data): \n",
    "    res = spearmanr(data['Open'],data['NO(milions)'])\n",
    "    print(res)\n",
    "    if res[0].round(1)==0:\n",
    "        print('Brak korelacji')\n",
    "    elif 0<=res[0].round(1)<=0.5:\n",
    "        print('Niska korelacja dodania')\n",
    "    elif 0.5<res[0].round(1)<=1:\n",
    "        print('Wysoka korelacja dodatnia')\n",
    "    elif -0.5<res[0].round(1)<=0:\n",
    "        print('Niska korelacja ujemna')\n",
    "    else:\n",
    "        print('Wysoka korelacja ujemna')\n",
    "    print(20*'-')\n",
    "    print(20*'-')\n",
    "\n",
    "\n",
    "print('Wyniki testów korelacji zmiennych')\n",
    "print(20*'-')\n",
    "print(20*'-')\n",
    "for name,data in datasets.items():\n",
    "    print(name.title())\n",
    "    test_korelacji(data)"
   ]
  },
  {
   "attachments": {},
   "cell_type": "markdown",
   "metadata": {},
   "source": [
    "### Statystyki podsumowujące"
   ]
  },
  {
   "cell_type": "code",
   "execution_count": 18,
   "metadata": {},
   "outputs": [
    {
     "name": "stdout",
     "output_type": "stream",
     "text": [
      "Podsumowane statystyki\n",
      "--------------------\n",
      "--------------------\n",
      "Hbo\n",
      "count    629.000000\n",
      "mean      27.837102\n",
      "std        9.662457\n",
      "min       13.120000\n",
      "25%       21.940000\n",
      "50%       25.750000\n",
      "75%       29.880000\n",
      "max       77.980000\n",
      "Name: Open, dtype: float64\n",
      "                            OLS Regression Results                            \n",
      "==============================================================================\n",
      "Dep. Variable:                      y   R-squared:                       0.002\n",
      "Model:                            OLS   Adj. R-squared:                  0.000\n",
      "Method:                 Least Squares   F-statistic:                     1.240\n",
      "Date:                Mon, 17 Apr 2023   Prob (F-statistic):              0.266\n",
      "Time:                        13:25:49   Log-Likelihood:                -2318.1\n",
      "No. Observations:                 629   AIC:                             4640.\n",
      "Df Residuals:                     627   BIC:                             4649.\n",
      "Df Model:                           1                                         \n",
      "Covariance Type:            nonrobust                                         \n",
      "==============================================================================\n",
      "                 coef    std err          t      P>|t|      [0.025      0.975]\n",
      "------------------------------------------------------------------------------\n",
      "const         28.5787      0.769     37.141      0.000      27.068      30.090\n",
      "x1            -0.0024      0.002     -1.113      0.266      -0.007       0.002\n",
      "==============================================================================\n",
      "Omnibus:                      333.136   Durbin-Watson:                   0.017\n",
      "Prob(Omnibus):                  0.000   Jarque-Bera (JB):             2009.268\n",
      "Skew:                           2.367   Prob(JB):                         0.00\n",
      "Kurtosis:                      10.366   Cond. No.                         725.\n",
      "==============================================================================\n",
      "\n",
      "Notes:\n",
      "[1] Standard Errors assume that the covariance matrix of the errors is correctly specified.\n",
      "--------------------\n",
      "Netflix\n",
      "count    629.000000\n",
      "mean     466.399948\n",
      "std      116.870320\n",
      "min      163.960000\n",
      "25%      386.760000\n",
      "50%      495.000000\n",
      "75%      536.790000\n",
      "max      692.350000\n",
      "Name: Open, dtype: float64\n",
      "                            OLS Regression Results                            \n",
      "==============================================================================\n",
      "Dep. Variable:                      y   R-squared:                       0.004\n",
      "Model:                            OLS   Adj. R-squared:                  0.002\n",
      "Method:                 Least Squares   F-statistic:                     2.211\n",
      "Date:                Mon, 17 Apr 2023   Prob (F-statistic):              0.138\n",
      "Time:                        13:25:49   Log-Likelihood:                -3885.6\n",
      "No. Observations:                 629   AIC:                             7775.\n",
      "Df Residuals:                     627   BIC:                             7784.\n",
      "Df Model:                           1                                         \n",
      "Covariance Type:            nonrobust                                         \n",
      "==============================================================================\n",
      "                 coef    std err          t      P>|t|      [0.025      0.975]\n",
      "------------------------------------------------------------------------------\n",
      "const        478.3698      9.300     51.439      0.000     460.107     496.632\n",
      "x1            -0.0381      0.026     -1.487      0.138      -0.088       0.012\n",
      "==============================================================================\n",
      "Omnibus:                       35.537   Durbin-Watson:                   0.012\n",
      "Prob(Omnibus):                  0.000   Jarque-Bera (JB):               40.239\n",
      "Skew:                          -0.615   Prob(JB):                     1.83e-09\n",
      "Kurtosis:                       3.150   Cond. No.                         725.\n",
      "==============================================================================\n",
      "\n",
      "Notes:\n",
      "[1] Standard Errors assume that the covariance matrix of the errors is correctly specified.\n",
      "--------------------\n",
      "Showtime\n",
      "count    629.000000\n",
      "mean      34.819928\n",
      "std       12.536747\n",
      "min       11.900000\n",
      "25%       27.730000\n",
      "50%       34.549000\n",
      "75%       40.210000\n",
      "max       99.150000\n",
      "Name: Open, dtype: float64\n",
      "                            OLS Regression Results                            \n",
      "==============================================================================\n",
      "Dep. Variable:                      y   R-squared:                       0.055\n",
      "Model:                            OLS   Adj. R-squared:                  0.053\n",
      "Method:                 Least Squares   F-statistic:                     36.42\n",
      "Date:                Mon, 17 Apr 2023   Prob (F-statistic):           2.72e-09\n",
      "Time:                        13:25:49   Log-Likelihood:                -2464.8\n",
      "No. Observations:                 629   AIC:                             4934.\n",
      "Df Residuals:                     627   BIC:                             4942.\n",
      "Df Model:                           1                                         \n",
      "Covariance Type:            nonrobust                                         \n",
      "==============================================================================\n",
      "                 coef    std err          t      P>|t|      [0.025      0.975]\n",
      "------------------------------------------------------------------------------\n",
      "const         29.7444      0.972     30.616      0.000      27.837      31.652\n",
      "x1             0.0162      0.003      6.035      0.000       0.011       0.021\n",
      "==============================================================================\n",
      "Omnibus:                      318.537   Durbin-Watson:                   0.019\n",
      "Prob(Omnibus):                  0.000   Jarque-Bera (JB):             2034.359\n",
      "Skew:                           2.207   Prob(JB):                         0.00\n",
      "Kurtosis:                      10.625   Cond. No.                         725.\n",
      "==============================================================================\n",
      "\n",
      "Notes:\n",
      "[1] Standard Errors assume that the covariance matrix of the errors is correctly specified.\n",
      "--------------------\n",
      "Disney\n",
      "count    629.000000\n",
      "mean     146.652043\n",
      "std       29.346319\n",
      "min       84.490000\n",
      "25%      121.630000\n",
      "50%      145.290000\n",
      "75%      175.600000\n",
      "max      200.185000\n",
      "Name: Open, dtype: float64\n",
      "                            OLS Regression Results                            \n",
      "==============================================================================\n",
      "Dep. Variable:                      y   R-squared:                       0.054\n",
      "Model:                            OLS   Adj. R-squared:                  0.052\n",
      "Method:                 Least Squares   F-statistic:                     35.57\n",
      "Date:                Mon, 17 Apr 2023   Prob (F-statistic):           4.10e-09\n",
      "Time:                        13:25:49   Log-Likelihood:                -3000.2\n",
      "No. Observations:                 629   AIC:                             6004.\n",
      "Df Residuals:                     627   BIC:                             6013.\n",
      "Df Model:                           1                                         \n",
      "Covariance Type:            nonrobust                                         \n",
      "==============================================================================\n",
      "                 coef    std err          t      P>|t|      [0.025      0.975]\n",
      "------------------------------------------------------------------------------\n",
      "const        134.9022      2.276     59.281      0.000     130.433     139.371\n",
      "x1             0.0374      0.006      5.964      0.000       0.025       0.050\n",
      "==============================================================================\n",
      "Omnibus:                       89.994   Durbin-Watson:                   0.012\n",
      "Prob(Omnibus):                  0.000   Jarque-Bera (JB):               24.692\n",
      "Skew:                          -0.154   Prob(JB):                     4.35e-06\n",
      "Kurtosis:                       2.079   Cond. No.                         725.\n",
      "==============================================================================\n",
      "\n",
      "Notes:\n",
      "[1] Standard Errors assume that the covariance matrix of the errors is correctly specified.\n",
      "--------------------\n"
     ]
    }
   ],
   "source": [
    "import statsmodels.api as sm\n",
    "\n",
    "print('Podsumowane statystyki')\n",
    "print(20*'-')\n",
    "print(20*'-')\n",
    "for name,data in datasets.items():\n",
    "    print(name.title())\n",
    "    print(data['Open'].describe())\n",
    "    X = sm.add_constant([x for x in range(data.shape[0])])\n",
    "    y = data['Open'].to_list()\n",
    "    reg = sm.OLS(y, X).fit()\n",
    "    print(reg.summary())\n",
    "    print(20*'-')\n"
   ]
  },
  {
   "attachments": {},
   "cell_type": "markdown",
   "metadata": {},
   "source": [
    "Uwagi: czy stawiane prognonozy będą w okresie kwartalnym? czy zamierzają Panowie zbudować model z różnymi częstotliwościami? Jakich okresów będą dotyczyły analizy i prognozy? czy w tym okresie występują jakies zmiany strukturalne?"
   ]
  },
  {
   "attachments": {},
   "cell_type": "markdown",
   "metadata": {},
   "source": [
    "# Część 2 - Wstępne modelowanie"
   ]
  },
  {
   "cell_type": "code",
   "execution_count": 312,
   "metadata": {},
   "outputs": [],
   "source": [
    "from sklearn.linear_model import LinearRegression\n",
    "from sklearn.ensemble import RandomForestRegressor\n",
    "from sklearn.linear_model import Ridge\n",
    "from xgboost import XGBClassifier, XGBRegressor\n",
    "from sklearn.model_selection import train_test_split\n",
    "from sklearn.metrics import mean_squared_error, r2_score\n",
    "import numpy as np"
   ]
  },
  {
   "cell_type": "code",
   "execution_count": 67,
   "metadata": {},
   "outputs": [
    {
     "data": {
      "text/plain": [
       "dict_keys(['hbo', 'netflix', 'showtime', 'disney'])"
      ]
     },
     "execution_count": 67,
     "metadata": {},
     "output_type": "execute_result"
    }
   ],
   "source": [
    "datasets.keys()"
   ]
  },
  {
   "attachments": {},
   "cell_type": "markdown",
   "metadata": {},
   "source": [
    "## Regresja liniowa"
   ]
  },
  {
   "cell_type": "code",
   "execution_count": 15,
   "metadata": {},
   "outputs": [],
   "source": [
    "open_data_values = datasets['netflix']['Open'].values"
   ]
  },
  {
   "cell_type": "code",
   "execution_count": 16,
   "metadata": {},
   "outputs": [],
   "source": [
    "X = []\n",
    "Y = []\n",
    "for i in range(7,len(open_data_values)):\n",
    "    X.append(list(open_data_values[i-7:i]))\n",
    "    Y.append(open_data_values[i])\n"
   ]
  },
  {
   "cell_type": "code",
   "execution_count": 17,
   "metadata": {},
   "outputs": [],
   "source": [
    "X = np.array(X)\n",
    "Y = np.array(Y)"
   ]
  },
  {
   "cell_type": "code",
   "execution_count": 18,
   "metadata": {},
   "outputs": [],
   "source": [
    "X_train_full, X_test, Y_train_full, Y_test = train_test_split(X,Y,test_size=0.2,shuffle=False)\n",
    "X_train, X_valid, Y_train, Y_valid = train_test_split(X_train_full,Y_train_full,test_size=0.2,shuffle=False)"
   ]
  },
  {
   "cell_type": "code",
   "execution_count": 19,
   "metadata": {},
   "outputs": [
    {
     "name": "stdout",
     "output_type": "stream",
     "text": [
      "Train shapes: ((397, 7), (397,))\n",
      "Valid shapes: ((100, 7), (100,))\n",
      "Test shapes: ((125, 7), (125,))\n"
     ]
    }
   ],
   "source": [
    "print(f\"Train shapes: {(X_train.shape), (Y_train.shape)}\\nValid shapes: {(X_valid.shape), (Y_valid.shape)}\\nTest shapes: {(X_test.shape), (Y_test.shape)}\")"
   ]
  },
  {
   "cell_type": "code",
   "execution_count": 19,
   "metadata": {},
   "outputs": [],
   "source": [
    "# Y_test = np.array(Y_test).reshape(-1, 1)\n",
    "# X_test = np.array(X_test).reshape(-1, 1)\n",
    "\n",
    "# X_train_full = np.array(X_train_full).reshape(-1, 1)\n",
    "# Y_train_full = np.array(Y_train_full).reshape(-1, 1)\n"
   ]
  },
  {
   "cell_type": "code",
   "execution_count": 68,
   "metadata": {},
   "outputs": [
    {
     "data": {
      "text/html": [
       "<style>#sk-container-id-7 {color: black;background-color: white;}#sk-container-id-7 pre{padding: 0;}#sk-container-id-7 div.sk-toggleable {background-color: white;}#sk-container-id-7 label.sk-toggleable__label {cursor: pointer;display: block;width: 100%;margin-bottom: 0;padding: 0.3em;box-sizing: border-box;text-align: center;}#sk-container-id-7 label.sk-toggleable__label-arrow:before {content: \"▸\";float: left;margin-right: 0.25em;color: #696969;}#sk-container-id-7 label.sk-toggleable__label-arrow:hover:before {color: black;}#sk-container-id-7 div.sk-estimator:hover label.sk-toggleable__label-arrow:before {color: black;}#sk-container-id-7 div.sk-toggleable__content {max-height: 0;max-width: 0;overflow: hidden;text-align: left;background-color: #f0f8ff;}#sk-container-id-7 div.sk-toggleable__content pre {margin: 0.2em;color: black;border-radius: 0.25em;background-color: #f0f8ff;}#sk-container-id-7 input.sk-toggleable__control:checked~div.sk-toggleable__content {max-height: 200px;max-width: 100%;overflow: auto;}#sk-container-id-7 input.sk-toggleable__control:checked~label.sk-toggleable__label-arrow:before {content: \"▾\";}#sk-container-id-7 div.sk-estimator input.sk-toggleable__control:checked~label.sk-toggleable__label {background-color: #d4ebff;}#sk-container-id-7 div.sk-label input.sk-toggleable__control:checked~label.sk-toggleable__label {background-color: #d4ebff;}#sk-container-id-7 input.sk-hidden--visually {border: 0;clip: rect(1px 1px 1px 1px);clip: rect(1px, 1px, 1px, 1px);height: 1px;margin: -1px;overflow: hidden;padding: 0;position: absolute;width: 1px;}#sk-container-id-7 div.sk-estimator {font-family: monospace;background-color: #f0f8ff;border: 1px dotted black;border-radius: 0.25em;box-sizing: border-box;margin-bottom: 0.5em;}#sk-container-id-7 div.sk-estimator:hover {background-color: #d4ebff;}#sk-container-id-7 div.sk-parallel-item::after {content: \"\";width: 100%;border-bottom: 1px solid gray;flex-grow: 1;}#sk-container-id-7 div.sk-label:hover label.sk-toggleable__label {background-color: #d4ebff;}#sk-container-id-7 div.sk-serial::before {content: \"\";position: absolute;border-left: 1px solid gray;box-sizing: border-box;top: 0;bottom: 0;left: 50%;z-index: 0;}#sk-container-id-7 div.sk-serial {display: flex;flex-direction: column;align-items: center;background-color: white;padding-right: 0.2em;padding-left: 0.2em;position: relative;}#sk-container-id-7 div.sk-item {position: relative;z-index: 1;}#sk-container-id-7 div.sk-parallel {display: flex;align-items: stretch;justify-content: center;background-color: white;position: relative;}#sk-container-id-7 div.sk-item::before, #sk-container-id-7 div.sk-parallel-item::before {content: \"\";position: absolute;border-left: 1px solid gray;box-sizing: border-box;top: 0;bottom: 0;left: 50%;z-index: -1;}#sk-container-id-7 div.sk-parallel-item {display: flex;flex-direction: column;z-index: 1;position: relative;background-color: white;}#sk-container-id-7 div.sk-parallel-item:first-child::after {align-self: flex-end;width: 50%;}#sk-container-id-7 div.sk-parallel-item:last-child::after {align-self: flex-start;width: 50%;}#sk-container-id-7 div.sk-parallel-item:only-child::after {width: 0;}#sk-container-id-7 div.sk-dashed-wrapped {border: 1px dashed gray;margin: 0 0.4em 0.5em 0.4em;box-sizing: border-box;padding-bottom: 0.4em;background-color: white;}#sk-container-id-7 div.sk-label label {font-family: monospace;font-weight: bold;display: inline-block;line-height: 1.2em;}#sk-container-id-7 div.sk-label-container {text-align: center;}#sk-container-id-7 div.sk-container {/* jupyter's `normalize.less` sets `[hidden] { display: none; }` but bootstrap.min.css set `[hidden] { display: none !important; }` so we also need the `!important` here to be able to override the default hidden behavior on the sphinx rendered scikit-learn.org. See: https://github.com/scikit-learn/scikit-learn/issues/21755 */display: inline-block !important;position: relative;}#sk-container-id-7 div.sk-text-repr-fallback {display: none;}</style><div id=\"sk-container-id-7\" class=\"sk-top-container\"><div class=\"sk-text-repr-fallback\"><pre>LinearRegression()</pre><b>In a Jupyter environment, please rerun this cell to show the HTML representation or trust the notebook. <br />On GitHub, the HTML representation is unable to render, please try loading this page with nbviewer.org.</b></div><div class=\"sk-container\" hidden><div class=\"sk-item\"><div class=\"sk-estimator sk-toggleable\"><input class=\"sk-toggleable__control sk-hidden--visually\" id=\"sk-estimator-id-9\" type=\"checkbox\" checked><label for=\"sk-estimator-id-9\" class=\"sk-toggleable__label sk-toggleable__label-arrow\">LinearRegression</label><div class=\"sk-toggleable__content\"><pre>LinearRegression()</pre></div></div></div></div></div>"
      ],
      "text/plain": [
       "LinearRegression()"
      ]
     },
     "execution_count": 68,
     "metadata": {},
     "output_type": "execute_result"
    }
   ],
   "source": [
    "linear_regressor = LinearRegression()\n",
    "linear_regressor.fit(X_train,Y_train)\n",
    "    "
   ]
  },
  {
   "cell_type": "code",
   "execution_count": 69,
   "metadata": {},
   "outputs": [
    {
     "data": {
      "text/plain": [
       "0.9785161146405991"
      ]
     },
     "execution_count": 69,
     "metadata": {},
     "output_type": "execute_result"
    }
   ],
   "source": [
    "linear_regressor.score(X_test,Y_test)"
   ]
  },
  {
   "cell_type": "code",
   "execution_count": 70,
   "metadata": {},
   "outputs": [],
   "source": [
    "predicions = linear_regressor.predict(X_test)"
   ]
  },
  {
   "cell_type": "code",
   "execution_count": 71,
   "metadata": {},
   "outputs": [
    {
     "name": "stdout",
     "output_type": "stream",
     "text": [
      "RMSE =  17.984264987451777\n"
     ]
    }
   ],
   "source": [
    "print(\"RMSE = \",mean_squared_error(Y_test,predicions)**(1/2))"
   ]
  },
  {
   "cell_type": "code",
   "execution_count": 138,
   "metadata": {},
   "outputs": [
    {
     "data": {
      "text/html": [
       "<div>\n",
       "<style scoped>\n",
       "    .dataframe tbody tr th:only-of-type {\n",
       "        vertical-align: middle;\n",
       "    }\n",
       "\n",
       "    .dataframe tbody tr th {\n",
       "        vertical-align: top;\n",
       "    }\n",
       "\n",
       "    .dataframe thead th {\n",
       "        text-align: right;\n",
       "    }\n",
       "</style>\n",
       "<table border=\"1\" class=\"dataframe\">\n",
       "  <thead>\n",
       "    <tr style=\"text-align: right;\">\n",
       "      <th></th>\n",
       "      <th>Volume</th>\n",
       "      <th>NO(milions)</th>\n",
       "      <th>day</th>\n",
       "      <th>month</th>\n",
       "      <th>year</th>\n",
       "    </tr>\n",
       "  </thead>\n",
       "  <tbody>\n",
       "    <tr>\n",
       "      <th>0</th>\n",
       "      <td>4348493</td>\n",
       "      <td>182.86</td>\n",
       "      <td>2</td>\n",
       "      <td>1</td>\n",
       "      <td>2020</td>\n",
       "    </tr>\n",
       "    <tr>\n",
       "      <th>1</th>\n",
       "      <td>3795466</td>\n",
       "      <td>182.86</td>\n",
       "      <td>3</td>\n",
       "      <td>1</td>\n",
       "      <td>2020</td>\n",
       "    </tr>\n",
       "    <tr>\n",
       "      <th>2</th>\n",
       "      <td>5668577</td>\n",
       "      <td>182.86</td>\n",
       "      <td>6</td>\n",
       "      <td>1</td>\n",
       "      <td>2020</td>\n",
       "    </tr>\n",
       "    <tr>\n",
       "      <th>3</th>\n",
       "      <td>4742458</td>\n",
       "      <td>182.86</td>\n",
       "      <td>7</td>\n",
       "      <td>1</td>\n",
       "      <td>2020</td>\n",
       "    </tr>\n",
       "    <tr>\n",
       "      <th>4</th>\n",
       "      <td>7109117</td>\n",
       "      <td>182.86</td>\n",
       "      <td>8</td>\n",
       "      <td>1</td>\n",
       "      <td>2020</td>\n",
       "    </tr>\n",
       "    <tr>\n",
       "      <th>...</th>\n",
       "      <td>...</td>\n",
       "      <td>...</td>\n",
       "      <td>...</td>\n",
       "      <td>...</td>\n",
       "      <td>...</td>\n",
       "    </tr>\n",
       "    <tr>\n",
       "      <th>624</th>\n",
       "      <td>12423970</td>\n",
       "      <td>220.67</td>\n",
       "      <td>24</td>\n",
       "      <td>6</td>\n",
       "      <td>2022</td>\n",
       "    </tr>\n",
       "    <tr>\n",
       "      <th>625</th>\n",
       "      <td>8363879</td>\n",
       "      <td>220.67</td>\n",
       "      <td>27</td>\n",
       "      <td>6</td>\n",
       "      <td>2022</td>\n",
       "    </tr>\n",
       "    <tr>\n",
       "      <th>626</th>\n",
       "      <td>7201897</td>\n",
       "      <td>220.67</td>\n",
       "      <td>28</td>\n",
       "      <td>6</td>\n",
       "      <td>2022</td>\n",
       "    </tr>\n",
       "    <tr>\n",
       "      <th>627</th>\n",
       "      <td>5766847</td>\n",
       "      <td>220.67</td>\n",
       "      <td>29</td>\n",
       "      <td>6</td>\n",
       "      <td>2022</td>\n",
       "    </tr>\n",
       "    <tr>\n",
       "      <th>628</th>\n",
       "      <td>7894710</td>\n",
       "      <td>220.67</td>\n",
       "      <td>30</td>\n",
       "      <td>6</td>\n",
       "      <td>2022</td>\n",
       "    </tr>\n",
       "  </tbody>\n",
       "</table>\n",
       "<p>629 rows × 5 columns</p>\n",
       "</div>"
      ],
      "text/plain": [
       "       Volume  NO(milions)  day  month  year\n",
       "0     4348493       182.86    2      1  2020\n",
       "1     3795466       182.86    3      1  2020\n",
       "2     5668577       182.86    6      1  2020\n",
       "3     4742458       182.86    7      1  2020\n",
       "4     7109117       182.86    8      1  2020\n",
       "..        ...          ...  ...    ...   ...\n",
       "624  12423970       220.67   24      6  2022\n",
       "625   8363879       220.67   27      6  2022\n",
       "626   7201897       220.67   28      6  2022\n",
       "627   5766847       220.67   29      6  2022\n",
       "628   7894710       220.67   30      6  2022\n",
       "\n",
       "[629 rows x 5 columns]"
      ]
     },
     "execution_count": 138,
     "metadata": {},
     "output_type": "execute_result"
    }
   ],
   "source": []
  },
  {
   "attachments": {},
   "cell_type": "markdown",
   "metadata": {},
   "source": [
    "# Random Forest "
   ]
  },
  {
   "cell_type": "code",
   "execution_count": 135,
   "metadata": {},
   "outputs": [],
   "source": [
    "rf_reg = RandomForestRegressor()"
   ]
  },
  {
   "cell_type": "code",
   "execution_count": 136,
   "metadata": {},
   "outputs": [],
   "source": [
    "X_rf,Y_rf = datasets['netflix'][['Date','Volume','NO(milions)']], datasets['netflix']['Open']"
   ]
  },
  {
   "cell_type": "code",
   "execution_count": 137,
   "metadata": {},
   "outputs": [],
   "source": [
    "X_rf['day'] = X_rf['Date'].dt.day\n",
    "X_rf['month'] = X_rf['Date'].dt.month\n",
    "X_rf['year'] = X_rf['Date'].dt.year\n",
    "del X_rf['Date']"
   ]
  },
  {
   "cell_type": "code",
   "execution_count": 98,
   "metadata": {},
   "outputs": [
    {
     "name": "stderr",
     "output_type": "stream",
     "text": [
      "100%|██████████| 594/594 [00:45<00:00, 13.16it/s]\n"
     ]
    }
   ],
   "source": [
    "periods_no = 7*5\n",
    "predictions = []\n",
    "\n",
    "for row_no in tqdm(range(periods_no,X_rf.shape[0])):\n",
    "    rf_reg.fit(X_rf[row_no-periods_no:row_no],Y_rf[row_no-periods_no:row_no])\n",
    "    pred = rf_reg.predict(X_rf.iloc[row_no:row_no+1])\n",
    "    predictions.extend(pred)\n"
   ]
  },
  {
   "cell_type": "code",
   "execution_count": 99,
   "metadata": {},
   "outputs": [
    {
     "data": {
      "text/plain": [
       "0.9546812927264766"
      ]
     },
     "execution_count": 99,
     "metadata": {},
     "output_type": "execute_result"
    }
   ],
   "source": [
    "r2_score(Y_rf.values[periods_no:],predictions)"
   ]
  },
  {
   "attachments": {},
   "cell_type": "markdown",
   "metadata": {},
   "source": [
    "# XGBoost"
   ]
  },
  {
   "cell_type": "code",
   "execution_count": 114,
   "metadata": {},
   "outputs": [],
   "source": [
    "xgb_reg = XGBRegressor()"
   ]
  },
  {
   "cell_type": "code",
   "execution_count": 93,
   "metadata": {},
   "outputs": [
    {
     "name": "stderr",
     "output_type": "stream",
     "text": [
      "100%|██████████| 594/594 [00:17<00:00, 33.59it/s]\n"
     ]
    }
   ],
   "source": [
    "periods_no = 7*5\n",
    "predictions = []\n",
    "\n",
    "for row_no in tqdm(range(periods_no,X_rf.shape[0])):\n",
    "    xgb_reg.fit(X_rf[row_no-periods_no:row_no],Y_rf[row_no-periods_no:row_no])\n",
    "    pred = xgb_reg.predict(X_rf.iloc[row_no:row_no+1])\n",
    "    predictions.extend(pred)\n"
   ]
  },
  {
   "cell_type": "code",
   "execution_count": null,
   "metadata": {},
   "outputs": [],
   "source": []
  },
  {
   "cell_type": "code",
   "execution_count": 94,
   "metadata": {},
   "outputs": [
    {
     "data": {
      "text/plain": [
       "0.9467452799700663"
      ]
     },
     "execution_count": 94,
     "metadata": {},
     "output_type": "execute_result"
    }
   ],
   "source": [
    "r2_score(Y_rf.values[periods_no:],predictions)"
   ]
  },
  {
   "attachments": {},
   "cell_type": "markdown",
   "metadata": {},
   "source": [
    "# Część 3 - model zaawansowany"
   ]
  },
  {
   "attachments": {},
   "cell_type": "markdown",
   "metadata": {},
   "source": [
    "1. W ramach rozwoju modeli i mozliwości ich porównania dokonano ponownych obliczeń na dwa sposoby:\n",
    "\n",
    "\n",
    "    * zwykły podział danych na dane treningowe i dane testowe (z zachowaniem chronologii eventów), a następnie predykcja wyników dla danych przyszłych\n",
    "    * utworzenie modeli, które będą przewidywać jedną wartość na podstawie X poprzednich okresow (dni)\n",
    "\n",
    "\n",
    "2. Modele zostaną porównane na danych Netflixa, po czym zostanie takze dokonane przewidywanie na podstawie danych z pozostałych spółek w celu sprawdzenia elastyczności modeli\n",
    "    \n",
    "    "
   ]
  },
  {
   "cell_type": "code",
   "execution_count": 357,
   "metadata": {},
   "outputs": [],
   "source": [
    "from sklearn.linear_model import LinearRegression\n",
    "from sklearn.ensemble import RandomForestRegressor\n",
    "from sklearn.linear_model import Ridge\n",
    "from xgboost import XGBClassifier, XGBRegressor\n",
    "from sklearn.model_selection import train_test_split\n",
    "from sklearn.metrics import mean_squared_error, r2_score\n",
    "import numpy as np"
   ]
  },
  {
   "cell_type": "code",
   "execution_count": 358,
   "metadata": {},
   "outputs": [],
   "source": [
    "def prepare_features(data):\n",
    "    data['day'] = data['Date'].dt.day\n",
    "    data['month'] = data['Date'].dt.month\n",
    "    data['year'] = data['Date'].dt.year\n",
    "    return data[['day','month','year']]"
   ]
  },
  {
   "attachments": {},
   "cell_type": "markdown",
   "metadata": {},
   "source": [
    "#### Modele podstawowe - w celach badawczych dodany został model regresji grzbietowej, który nie był rozwazany w poprzenim etapie projektu"
   ]
  },
  {
   "cell_type": "code",
   "execution_count": 359,
   "metadata": {},
   "outputs": [],
   "source": [
    "reg_model = LinearRegression()\n",
    "rf_model = RandomForestRegressor()\n",
    "xgb_model = XGBRegressor()\n",
    "ridge_model = Ridge()\n",
    "\n",
    "X_data, Y_data = datasets['netflix'][['Date']],datasets['netflix'][['Open']]"
   ]
  },
  {
   "cell_type": "code",
   "execution_count": 360,
   "metadata": {},
   "outputs": [],
   "source": [
    "X_data = prepare_features(X_data)"
   ]
  },
  {
   "cell_type": "code",
   "execution_count": 361,
   "metadata": {},
   "outputs": [],
   "source": [
    "X_train,X_test,Y_train,Y_test = train_test_split(X_data,Y_data,shuffle=False,test_size=0.2)"
   ]
  },
  {
   "cell_type": "code",
   "execution_count": 362,
   "metadata": {},
   "outputs": [
    {
     "data": {
      "text/html": [
       "<style>#sk-container-id-44 {color: black;background-color: white;}#sk-container-id-44 pre{padding: 0;}#sk-container-id-44 div.sk-toggleable {background-color: white;}#sk-container-id-44 label.sk-toggleable__label {cursor: pointer;display: block;width: 100%;margin-bottom: 0;padding: 0.3em;box-sizing: border-box;text-align: center;}#sk-container-id-44 label.sk-toggleable__label-arrow:before {content: \"▸\";float: left;margin-right: 0.25em;color: #696969;}#sk-container-id-44 label.sk-toggleable__label-arrow:hover:before {color: black;}#sk-container-id-44 div.sk-estimator:hover label.sk-toggleable__label-arrow:before {color: black;}#sk-container-id-44 div.sk-toggleable__content {max-height: 0;max-width: 0;overflow: hidden;text-align: left;background-color: #f0f8ff;}#sk-container-id-44 div.sk-toggleable__content pre {margin: 0.2em;color: black;border-radius: 0.25em;background-color: #f0f8ff;}#sk-container-id-44 input.sk-toggleable__control:checked~div.sk-toggleable__content {max-height: 200px;max-width: 100%;overflow: auto;}#sk-container-id-44 input.sk-toggleable__control:checked~label.sk-toggleable__label-arrow:before {content: \"▾\";}#sk-container-id-44 div.sk-estimator input.sk-toggleable__control:checked~label.sk-toggleable__label {background-color: #d4ebff;}#sk-container-id-44 div.sk-label input.sk-toggleable__control:checked~label.sk-toggleable__label {background-color: #d4ebff;}#sk-container-id-44 input.sk-hidden--visually {border: 0;clip: rect(1px 1px 1px 1px);clip: rect(1px, 1px, 1px, 1px);height: 1px;margin: -1px;overflow: hidden;padding: 0;position: absolute;width: 1px;}#sk-container-id-44 div.sk-estimator {font-family: monospace;background-color: #f0f8ff;border: 1px dotted black;border-radius: 0.25em;box-sizing: border-box;margin-bottom: 0.5em;}#sk-container-id-44 div.sk-estimator:hover {background-color: #d4ebff;}#sk-container-id-44 div.sk-parallel-item::after {content: \"\";width: 100%;border-bottom: 1px solid gray;flex-grow: 1;}#sk-container-id-44 div.sk-label:hover label.sk-toggleable__label {background-color: #d4ebff;}#sk-container-id-44 div.sk-serial::before {content: \"\";position: absolute;border-left: 1px solid gray;box-sizing: border-box;top: 0;bottom: 0;left: 50%;z-index: 0;}#sk-container-id-44 div.sk-serial {display: flex;flex-direction: column;align-items: center;background-color: white;padding-right: 0.2em;padding-left: 0.2em;position: relative;}#sk-container-id-44 div.sk-item {position: relative;z-index: 1;}#sk-container-id-44 div.sk-parallel {display: flex;align-items: stretch;justify-content: center;background-color: white;position: relative;}#sk-container-id-44 div.sk-item::before, #sk-container-id-44 div.sk-parallel-item::before {content: \"\";position: absolute;border-left: 1px solid gray;box-sizing: border-box;top: 0;bottom: 0;left: 50%;z-index: -1;}#sk-container-id-44 div.sk-parallel-item {display: flex;flex-direction: column;z-index: 1;position: relative;background-color: white;}#sk-container-id-44 div.sk-parallel-item:first-child::after {align-self: flex-end;width: 50%;}#sk-container-id-44 div.sk-parallel-item:last-child::after {align-self: flex-start;width: 50%;}#sk-container-id-44 div.sk-parallel-item:only-child::after {width: 0;}#sk-container-id-44 div.sk-dashed-wrapped {border: 1px dashed gray;margin: 0 0.4em 0.5em 0.4em;box-sizing: border-box;padding-bottom: 0.4em;background-color: white;}#sk-container-id-44 div.sk-label label {font-family: monospace;font-weight: bold;display: inline-block;line-height: 1.2em;}#sk-container-id-44 div.sk-label-container {text-align: center;}#sk-container-id-44 div.sk-container {/* jupyter's `normalize.less` sets `[hidden] { display: none; }` but bootstrap.min.css set `[hidden] { display: none !important; }` so we also need the `!important` here to be able to override the default hidden behavior on the sphinx rendered scikit-learn.org. See: https://github.com/scikit-learn/scikit-learn/issues/21755 */display: inline-block !important;position: relative;}#sk-container-id-44 div.sk-text-repr-fallback {display: none;}</style><div id=\"sk-container-id-44\" class=\"sk-top-container\"><div class=\"sk-text-repr-fallback\"><pre>Ridge()</pre><b>In a Jupyter environment, please rerun this cell to show the HTML representation or trust the notebook. <br />On GitHub, the HTML representation is unable to render, please try loading this page with nbviewer.org.</b></div><div class=\"sk-container\" hidden><div class=\"sk-item\"><div class=\"sk-estimator sk-toggleable\"><input class=\"sk-toggleable__control sk-hidden--visually\" id=\"sk-estimator-id-52\" type=\"checkbox\" checked><label for=\"sk-estimator-id-52\" class=\"sk-toggleable__label sk-toggleable__label-arrow\">Ridge</label><div class=\"sk-toggleable__content\"><pre>Ridge()</pre></div></div></div></div></div>"
      ],
      "text/plain": [
       "Ridge()"
      ]
     },
     "execution_count": 362,
     "metadata": {},
     "output_type": "execute_result"
    }
   ],
   "source": [
    "reg_model.fit(X_train,Y_train)\n",
    "rf_model.fit(X_train,Y_train)\n",
    "xgb_model.fit(X_train,Y_train)\n",
    "ridge_model.fit(X_train,Y_train)"
   ]
  },
  {
   "cell_type": "code",
   "execution_count": 363,
   "metadata": {},
   "outputs": [
    {
     "name": "stdout",
     "output_type": "stream",
     "text": [
      "Regresja liniowa: -6.217640738243737\n",
      "Las losowy: -2.313298858126678\n",
      "XGBoost: -2.32050360729961\n",
      "Regresja grzbietowa -6.1665348692551\n"
     ]
    }
   ],
   "source": [
    "print(f\"Regresja liniowa: {reg_model.score(X_test,Y_test)}\\nLas losowy: {rf_model.score(X_test,Y_test)}\\nXGBoost: {xgb_model.score(X_test,Y_test)}\\nRegresja grzbietowa {ridge_model.score(X_test,Y_test)}\")"
   ]
  },
  {
   "attachments": {},
   "cell_type": "markdown",
   "metadata": {},
   "source": [
    "#### Modele w oparciu o ostatnie X dni"
   ]
  },
  {
   "cell_type": "code",
   "execution_count": 364,
   "metadata": {},
   "outputs": [],
   "source": [
    "def hour_data_prepration(name,hours=7,delta = 0):\n",
    "    hours=  hours\n",
    "    open_data_values = datasets[name]['Open'].values\n",
    "    X = []\n",
    "    Y = []\n",
    "    for i in range(hours,len(open_data_values)-delta):\n",
    "        X.append(list(open_data_values[i-hours:i]))\n",
    "        Y.append(open_data_values[i+delta])\n",
    "\n",
    "    X = np.array(X)\n",
    "    Y = np.array(Y)\n",
    "\n",
    "    X_train_hours, X_test_hours, Y_train_hours, Y_test_hours = train_test_split(X,Y,test_size=0.2,shuffle=False)\n",
    "    return X_train_hours, X_test_hours, Y_train_hours, Y_test_hours\n"
   ]
  },
  {
   "cell_type": "code",
   "execution_count": 365,
   "metadata": {},
   "outputs": [],
   "source": [
    "X_train_hours, X_test_hours, Y_train_hours, Y_test_hours = hour_data_prepration(name='netflix')"
   ]
  },
  {
   "cell_type": "code",
   "execution_count": 366,
   "metadata": {},
   "outputs": [
    {
     "data": {
      "text/html": [
       "<style>#sk-container-id-45 {color: black;background-color: white;}#sk-container-id-45 pre{padding: 0;}#sk-container-id-45 div.sk-toggleable {background-color: white;}#sk-container-id-45 label.sk-toggleable__label {cursor: pointer;display: block;width: 100%;margin-bottom: 0;padding: 0.3em;box-sizing: border-box;text-align: center;}#sk-container-id-45 label.sk-toggleable__label-arrow:before {content: \"▸\";float: left;margin-right: 0.25em;color: #696969;}#sk-container-id-45 label.sk-toggleable__label-arrow:hover:before {color: black;}#sk-container-id-45 div.sk-estimator:hover label.sk-toggleable__label-arrow:before {color: black;}#sk-container-id-45 div.sk-toggleable__content {max-height: 0;max-width: 0;overflow: hidden;text-align: left;background-color: #f0f8ff;}#sk-container-id-45 div.sk-toggleable__content pre {margin: 0.2em;color: black;border-radius: 0.25em;background-color: #f0f8ff;}#sk-container-id-45 input.sk-toggleable__control:checked~div.sk-toggleable__content {max-height: 200px;max-width: 100%;overflow: auto;}#sk-container-id-45 input.sk-toggleable__control:checked~label.sk-toggleable__label-arrow:before {content: \"▾\";}#sk-container-id-45 div.sk-estimator input.sk-toggleable__control:checked~label.sk-toggleable__label {background-color: #d4ebff;}#sk-container-id-45 div.sk-label input.sk-toggleable__control:checked~label.sk-toggleable__label {background-color: #d4ebff;}#sk-container-id-45 input.sk-hidden--visually {border: 0;clip: rect(1px 1px 1px 1px);clip: rect(1px, 1px, 1px, 1px);height: 1px;margin: -1px;overflow: hidden;padding: 0;position: absolute;width: 1px;}#sk-container-id-45 div.sk-estimator {font-family: monospace;background-color: #f0f8ff;border: 1px dotted black;border-radius: 0.25em;box-sizing: border-box;margin-bottom: 0.5em;}#sk-container-id-45 div.sk-estimator:hover {background-color: #d4ebff;}#sk-container-id-45 div.sk-parallel-item::after {content: \"\";width: 100%;border-bottom: 1px solid gray;flex-grow: 1;}#sk-container-id-45 div.sk-label:hover label.sk-toggleable__label {background-color: #d4ebff;}#sk-container-id-45 div.sk-serial::before {content: \"\";position: absolute;border-left: 1px solid gray;box-sizing: border-box;top: 0;bottom: 0;left: 50%;z-index: 0;}#sk-container-id-45 div.sk-serial {display: flex;flex-direction: column;align-items: center;background-color: white;padding-right: 0.2em;padding-left: 0.2em;position: relative;}#sk-container-id-45 div.sk-item {position: relative;z-index: 1;}#sk-container-id-45 div.sk-parallel {display: flex;align-items: stretch;justify-content: center;background-color: white;position: relative;}#sk-container-id-45 div.sk-item::before, #sk-container-id-45 div.sk-parallel-item::before {content: \"\";position: absolute;border-left: 1px solid gray;box-sizing: border-box;top: 0;bottom: 0;left: 50%;z-index: -1;}#sk-container-id-45 div.sk-parallel-item {display: flex;flex-direction: column;z-index: 1;position: relative;background-color: white;}#sk-container-id-45 div.sk-parallel-item:first-child::after {align-self: flex-end;width: 50%;}#sk-container-id-45 div.sk-parallel-item:last-child::after {align-self: flex-start;width: 50%;}#sk-container-id-45 div.sk-parallel-item:only-child::after {width: 0;}#sk-container-id-45 div.sk-dashed-wrapped {border: 1px dashed gray;margin: 0 0.4em 0.5em 0.4em;box-sizing: border-box;padding-bottom: 0.4em;background-color: white;}#sk-container-id-45 div.sk-label label {font-family: monospace;font-weight: bold;display: inline-block;line-height: 1.2em;}#sk-container-id-45 div.sk-label-container {text-align: center;}#sk-container-id-45 div.sk-container {/* jupyter's `normalize.less` sets `[hidden] { display: none; }` but bootstrap.min.css set `[hidden] { display: none !important; }` so we also need the `!important` here to be able to override the default hidden behavior on the sphinx rendered scikit-learn.org. See: https://github.com/scikit-learn/scikit-learn/issues/21755 */display: inline-block !important;position: relative;}#sk-container-id-45 div.sk-text-repr-fallback {display: none;}</style><div id=\"sk-container-id-45\" class=\"sk-top-container\"><div class=\"sk-text-repr-fallback\"><pre>Ridge()</pre><b>In a Jupyter environment, please rerun this cell to show the HTML representation or trust the notebook. <br />On GitHub, the HTML representation is unable to render, please try loading this page with nbviewer.org.</b></div><div class=\"sk-container\" hidden><div class=\"sk-item\"><div class=\"sk-estimator sk-toggleable\"><input class=\"sk-toggleable__control sk-hidden--visually\" id=\"sk-estimator-id-53\" type=\"checkbox\" checked><label for=\"sk-estimator-id-53\" class=\"sk-toggleable__label sk-toggleable__label-arrow\">Ridge</label><div class=\"sk-toggleable__content\"><pre>Ridge()</pre></div></div></div></div></div>"
      ],
      "text/plain": [
       "Ridge()"
      ]
     },
     "execution_count": 366,
     "metadata": {},
     "output_type": "execute_result"
    }
   ],
   "source": [
    "reg_model.fit(X_train_hours,Y_train_hours)\n",
    "rf_model.fit(X_train_hours,Y_train_hours)\n",
    "xgb_model.fit(X_train_hours,Y_train_hours)\n",
    "ridge_model.fit(X_train_hours,Y_train_hours)"
   ]
  },
  {
   "cell_type": "code",
   "execution_count": 367,
   "metadata": {},
   "outputs": [
    {
     "name": "stdout",
     "output_type": "stream",
     "text": [
      "Regresja liniowa: 0.9795506619020165\n",
      "Las losowy: 0.46335691788478706\n",
      "XGBoost: 0.472977206936381\n",
      "Regresja grzbietowa: 0.9795505112769518\n"
     ]
    }
   ],
   "source": [
    "print(f\"Regresja liniowa: {reg_model.score(X_test_hours,Y_test_hours)}\\nLas losowy: {rf_model.score(X_test_hours,Y_test_hours)}\\nXGBoost: {xgb_model.score(X_test_hours,Y_test_hours)}\\nRegresja grzbietowa: {ridge_model.score(X_test_hours,Y_test_hours)}\")"
   ]
  },
  {
   "attachments": {},
   "cell_type": "markdown",
   "metadata": {},
   "source": [
    "Poniewaz modele dla RF i XGBoost generują słabe wyniki (coraz gorsze wraz z poszerzeniem zakresu o kolejne dni), zmienimy podejście, generując wyniki na podstawie danych testowych iteracyjnie"
   ]
  },
  {
   "cell_type": "code",
   "execution_count": 368,
   "metadata": {},
   "outputs": [
    {
     "name": "stderr",
     "output_type": "stream",
     "text": [
      "100%|██████████| 119/119 [00:11<00:00, 10.05it/s]\n"
     ]
    }
   ],
   "source": [
    "hours = 7\n",
    "predictions_xgb = []\n",
    "predictions_rf = []\n",
    "\n",
    "for row_no in tqdm(range(hours, X_test.shape[0])):\n",
    "    xgb_model.fit(X_test[row_no-hours:row_no],Y_test[row_no-hours:row_no])\n",
    "    pred = xgb_model.predict(X_test[row_no:row_no+1])\n",
    "    predictions_xgb.extend(pred)\n",
    "    \n",
    "\n",
    "    rf_model.fit(X_test[row_no-hours:row_no],Y_test[row_no-hours:row_no])\n",
    "    pred = rf_model.predict(X_test[row_no:row_no+1])\n",
    "    predictions_rf.extend(pred)\n"
   ]
  },
  {
   "cell_type": "code",
   "execution_count": 369,
   "metadata": {},
   "outputs": [
    {
     "name": "stdout",
     "output_type": "stream",
     "text": [
      "Las Losowy: 0.9698764040815205\n",
      "XGBoost: 0.9759106622123749\n"
     ]
    }
   ],
   "source": [
    "print(f\"Las Losowy: {r2_score(Y_test.values[hours:],predictions_rf)}\\nXGBoost: {r2_score(Y_test.values[hours:],predictions_xgb)}\") "
   ]
  },
  {
   "attachments": {},
   "cell_type": "markdown",
   "metadata": {},
   "source": [
    "## Hiperparametryzacja"
   ]
  },
  {
   "attachments": {},
   "cell_type": "markdown",
   "metadata": {},
   "source": [
    "Poniewaz jednak to Regresja liniowa oraz grzbietowa w swojej domyślej postaci wykazały się bardzo dobrymi wynikami to one mogłyby być rozpatrywane w kontekście hiperparametryzacji. Poniewaz jednak dla regresji liniowej nie ma parametrow do hiperparametryzacji skupimy sie na regresji grzbietowej, dla której przeprowadzona zostanie hiperparametryzacja \"alfy\" oraz testowanie innych spółek. Ponadto aby poprawa predykcji mogła być znacząca hiperparametryzacja dokonana zostanie na modelu przewidującym na 7 dni do przodu, gdzie jego dokładność predykcji jest nizsza"
   ]
  },
  {
   "cell_type": "code",
   "execution_count": 370,
   "metadata": {},
   "outputs": [],
   "source": [
    "from sklearn.model_selection import GridSearchCV"
   ]
  },
  {
   "cell_type": "code",
   "execution_count": 371,
   "metadata": {},
   "outputs": [],
   "source": [
    "X_train_hours, X_test_hours, Y_train_hours, Y_test_hours = hour_data_prepration('netflix', delta=7)"
   ]
  },
  {
   "cell_type": "code",
   "execution_count": 372,
   "metadata": {},
   "outputs": [
    {
     "data": {
      "text/plain": [
       "0.6681758604121262"
      ]
     },
     "execution_count": 372,
     "metadata": {},
     "output_type": "execute_result"
    }
   ],
   "source": [
    "ridge_model.fit(X_train_hours,Y_train_hours)\n",
    "ridge_model.score(X_test_hours,Y_test_hours)"
   ]
  },
  {
   "cell_type": "code",
   "execution_count": 373,
   "metadata": {},
   "outputs": [
    {
     "name": "stdout",
     "output_type": "stream",
     "text": [
      "Fitting 3 folds for each of 16 candidates, totalling 48 fits\n",
      "[CV] END ........................................alpha=1e-15; total time=   0.0s\n",
      "[CV] END ........................................alpha=1e-15; total time=   0.0s\n",
      "[CV] END ........................................alpha=1e-15; total time=   0.0s\n",
      "[CV] END ........................................alpha=1e-10; total time=   0.0s\n",
      "[CV] END ........................................alpha=1e-10; total time=   0.0s\n",
      "[CV] END ........................................alpha=1e-10; total time=   0.0s\n",
      "[CV] END ........................................alpha=1e-08; total time=   0.0s\n",
      "[CV] END ........................................alpha=1e-08; total time=   0.0s\n",
      "[CV] END ........................................alpha=1e-08; total time=   0.0s\n",
      "[CV] END ........................................alpha=0.001; total time=   0.0s\n",
      "[CV] END ........................................alpha=0.001; total time=   0.0s\n",
      "[CV] END ........................................alpha=0.001; total time=   0.0s\n",
      "[CV] END .........................................alpha=0.01; total time=   0.0s\n",
      "[CV] END .........................................alpha=0.01; total time=   0.0s\n",
      "[CV] END .........................................alpha=0.01; total time=   0.0s\n",
      "[CV] END ............................................alpha=1; total time=   0.0s\n",
      "[CV] END ............................................alpha=1; total time=   0.0s\n",
      "[CV] END ............................................alpha=1; total time=   0.0s\n",
      "[CV] END ............................................alpha=5; total time=   0.0s\n",
      "[CV] END ............................................alpha=5; total time=   0.0s\n",
      "[CV] END ............................................alpha=5; total time=   0.0s\n",
      "[CV] END ...........................................alpha=10; total time=   0.0s\n",
      "[CV] END ...........................................alpha=10; total time=   0.0s\n",
      "[CV] END ...........................................alpha=10; total time=   0.0s\n",
      "[CV] END ...........................................alpha=20; total time=   0.0s\n",
      "[CV] END ...........................................alpha=20; total time=   0.0s\n",
      "[CV] END ...........................................alpha=20; total time=   0.0s\n",
      "[CV] END ...........................................alpha=30; total time=   0.0s\n",
      "[CV] END ...........................................alpha=30; total time=   0.0s\n",
      "[CV] END ...........................................alpha=30; total time=   0.0s\n",
      "[CV] END ...........................................alpha=35; total time=   0.0s\n",
      "[CV] END ...........................................alpha=35; total time=   0.0s\n",
      "[CV] END ...........................................alpha=35; total time=   0.0s\n",
      "[CV] END ...........................................alpha=40; total time=   0.0s\n",
      "[CV] END ...........................................alpha=40; total time=   0.0s\n",
      "[CV] END ...........................................alpha=40; total time=   0.0s\n",
      "[CV] END ...........................................alpha=45; total time=   0.0s\n",
      "[CV] END ...........................................alpha=45; total time=   0.0s\n",
      "[CV] END ...........................................alpha=45; total time=   0.0s\n",
      "[CV] END ...........................................alpha=50; total time=   0.0s\n",
      "[CV] END ...........................................alpha=50; total time=   0.0s\n",
      "[CV] END ...........................................alpha=50; total time=   0.0s\n",
      "[CV] END ...........................................alpha=55; total time=   0.0s\n",
      "[CV] END ...........................................alpha=55; total time=   0.0s\n",
      "[CV] END ...........................................alpha=55; total time=   0.0s\n",
      "[CV] END ..........................................alpha=100; total time=   0.0s\n",
      "[CV] END ..........................................alpha=100; total time=   0.0s\n",
      "[CV] END ..........................................alpha=100; total time=   0.0s\n"
     ]
    },
    {
     "data": {
      "text/html": [
       "<style>#sk-container-id-46 {color: black;background-color: white;}#sk-container-id-46 pre{padding: 0;}#sk-container-id-46 div.sk-toggleable {background-color: white;}#sk-container-id-46 label.sk-toggleable__label {cursor: pointer;display: block;width: 100%;margin-bottom: 0;padding: 0.3em;box-sizing: border-box;text-align: center;}#sk-container-id-46 label.sk-toggleable__label-arrow:before {content: \"▸\";float: left;margin-right: 0.25em;color: #696969;}#sk-container-id-46 label.sk-toggleable__label-arrow:hover:before {color: black;}#sk-container-id-46 div.sk-estimator:hover label.sk-toggleable__label-arrow:before {color: black;}#sk-container-id-46 div.sk-toggleable__content {max-height: 0;max-width: 0;overflow: hidden;text-align: left;background-color: #f0f8ff;}#sk-container-id-46 div.sk-toggleable__content pre {margin: 0.2em;color: black;border-radius: 0.25em;background-color: #f0f8ff;}#sk-container-id-46 input.sk-toggleable__control:checked~div.sk-toggleable__content {max-height: 200px;max-width: 100%;overflow: auto;}#sk-container-id-46 input.sk-toggleable__control:checked~label.sk-toggleable__label-arrow:before {content: \"▾\";}#sk-container-id-46 div.sk-estimator input.sk-toggleable__control:checked~label.sk-toggleable__label {background-color: #d4ebff;}#sk-container-id-46 div.sk-label input.sk-toggleable__control:checked~label.sk-toggleable__label {background-color: #d4ebff;}#sk-container-id-46 input.sk-hidden--visually {border: 0;clip: rect(1px 1px 1px 1px);clip: rect(1px, 1px, 1px, 1px);height: 1px;margin: -1px;overflow: hidden;padding: 0;position: absolute;width: 1px;}#sk-container-id-46 div.sk-estimator {font-family: monospace;background-color: #f0f8ff;border: 1px dotted black;border-radius: 0.25em;box-sizing: border-box;margin-bottom: 0.5em;}#sk-container-id-46 div.sk-estimator:hover {background-color: #d4ebff;}#sk-container-id-46 div.sk-parallel-item::after {content: \"\";width: 100%;border-bottom: 1px solid gray;flex-grow: 1;}#sk-container-id-46 div.sk-label:hover label.sk-toggleable__label {background-color: #d4ebff;}#sk-container-id-46 div.sk-serial::before {content: \"\";position: absolute;border-left: 1px solid gray;box-sizing: border-box;top: 0;bottom: 0;left: 50%;z-index: 0;}#sk-container-id-46 div.sk-serial {display: flex;flex-direction: column;align-items: center;background-color: white;padding-right: 0.2em;padding-left: 0.2em;position: relative;}#sk-container-id-46 div.sk-item {position: relative;z-index: 1;}#sk-container-id-46 div.sk-parallel {display: flex;align-items: stretch;justify-content: center;background-color: white;position: relative;}#sk-container-id-46 div.sk-item::before, #sk-container-id-46 div.sk-parallel-item::before {content: \"\";position: absolute;border-left: 1px solid gray;box-sizing: border-box;top: 0;bottom: 0;left: 50%;z-index: -1;}#sk-container-id-46 div.sk-parallel-item {display: flex;flex-direction: column;z-index: 1;position: relative;background-color: white;}#sk-container-id-46 div.sk-parallel-item:first-child::after {align-self: flex-end;width: 50%;}#sk-container-id-46 div.sk-parallel-item:last-child::after {align-self: flex-start;width: 50%;}#sk-container-id-46 div.sk-parallel-item:only-child::after {width: 0;}#sk-container-id-46 div.sk-dashed-wrapped {border: 1px dashed gray;margin: 0 0.4em 0.5em 0.4em;box-sizing: border-box;padding-bottom: 0.4em;background-color: white;}#sk-container-id-46 div.sk-label label {font-family: monospace;font-weight: bold;display: inline-block;line-height: 1.2em;}#sk-container-id-46 div.sk-label-container {text-align: center;}#sk-container-id-46 div.sk-container {/* jupyter's `normalize.less` sets `[hidden] { display: none; }` but bootstrap.min.css set `[hidden] { display: none !important; }` so we also need the `!important` here to be able to override the default hidden behavior on the sphinx rendered scikit-learn.org. See: https://github.com/scikit-learn/scikit-learn/issues/21755 */display: inline-block !important;position: relative;}#sk-container-id-46 div.sk-text-repr-fallback {display: none;}</style><div id=\"sk-container-id-46\" class=\"sk-top-container\"><div class=\"sk-text-repr-fallback\"><pre>GridSearchCV(cv=3, estimator=Ridge(),\n",
       "             param_grid={&#x27;alpha&#x27;: [1e-15, 1e-10, 1e-08, 0.001, 0.01, 1, 5, 10,\n",
       "                                   20, 30, 35, 40, 45, 50, 55, 100]},\n",
       "             scoring=&#x27;neg_mean_squared_error&#x27;, verbose=2)</pre><b>In a Jupyter environment, please rerun this cell to show the HTML representation or trust the notebook. <br />On GitHub, the HTML representation is unable to render, please try loading this page with nbviewer.org.</b></div><div class=\"sk-container\" hidden><div class=\"sk-item sk-dashed-wrapped\"><div class=\"sk-label-container\"><div class=\"sk-label sk-toggleable\"><input class=\"sk-toggleable__control sk-hidden--visually\" id=\"sk-estimator-id-54\" type=\"checkbox\" ><label for=\"sk-estimator-id-54\" class=\"sk-toggleable__label sk-toggleable__label-arrow\">GridSearchCV</label><div class=\"sk-toggleable__content\"><pre>GridSearchCV(cv=3, estimator=Ridge(),\n",
       "             param_grid={&#x27;alpha&#x27;: [1e-15, 1e-10, 1e-08, 0.001, 0.01, 1, 5, 10,\n",
       "                                   20, 30, 35, 40, 45, 50, 55, 100]},\n",
       "             scoring=&#x27;neg_mean_squared_error&#x27;, verbose=2)</pre></div></div></div><div class=\"sk-parallel\"><div class=\"sk-parallel-item\"><div class=\"sk-item\"><div class=\"sk-label-container\"><div class=\"sk-label sk-toggleable\"><input class=\"sk-toggleable__control sk-hidden--visually\" id=\"sk-estimator-id-55\" type=\"checkbox\" ><label for=\"sk-estimator-id-55\" class=\"sk-toggleable__label sk-toggleable__label-arrow\">estimator: Ridge</label><div class=\"sk-toggleable__content\"><pre>Ridge()</pre></div></div></div><div class=\"sk-serial\"><div class=\"sk-item\"><div class=\"sk-estimator sk-toggleable\"><input class=\"sk-toggleable__control sk-hidden--visually\" id=\"sk-estimator-id-56\" type=\"checkbox\" ><label for=\"sk-estimator-id-56\" class=\"sk-toggleable__label sk-toggleable__label-arrow\">Ridge</label><div class=\"sk-toggleable__content\"><pre>Ridge()</pre></div></div></div></div></div></div></div></div></div></div>"
      ],
      "text/plain": [
       "GridSearchCV(cv=3, estimator=Ridge(),\n",
       "             param_grid={'alpha': [1e-15, 1e-10, 1e-08, 0.001, 0.01, 1, 5, 10,\n",
       "                                   20, 30, 35, 40, 45, 50, 55, 100]},\n",
       "             scoring='neg_mean_squared_error', verbose=2)"
      ]
     },
     "execution_count": 373,
     "metadata": {},
     "output_type": "execute_result"
    }
   ],
   "source": [
    "parameters = {'alpha':[1e-15,1e-10,1e-8,1e-3,1e-2,1,5,10,20,30,35,40,45,50,55,100]}\n",
    "\n",
    "ridge_grid_search = GridSearchCV(ridge_model,parameters,cv=3,verbose=2,scoring='neg_mean_squared_error')\n",
    "\n",
    "ridge_grid_search.fit(X_train_hours,Y_train_hours)"
   ]
  },
  {
   "cell_type": "code",
   "execution_count": 374,
   "metadata": {},
   "outputs": [
    {
     "data": {
      "text/plain": [
       "0.6681763232045148"
      ]
     },
     "execution_count": 374,
     "metadata": {},
     "output_type": "execute_result"
    }
   ],
   "source": [
    "ridge_best_reg = Ridge(**ridge_grid_search.best_params_)\n",
    "ridge_best_reg.fit(X_train_hours,Y_train_hours)\n",
    "ridge_best_reg.score(X_test_hours,Y_test_hours)"
   ]
  },
  {
   "attachments": {},
   "cell_type": "markdown",
   "metadata": {},
   "source": [
    "Jak widać wyniki po hiperparametryzacji nie uległy zmianie więc w dalszej części przeprowadzimy badanie na podstawowym modelu"
   ]
  },
  {
   "cell_type": "code",
   "execution_count": 375,
   "metadata": {},
   "outputs": [],
   "source": [
    "X_train_hours_net, _, Y_train_hours_net,_ = hour_data_prepration('netflix')\n",
    "_, X_test_hours_showtime,_, Y_test_hours_showtime = hour_data_prepration('showtime')\n",
    "_, X_test_hours_hbo,_, Y_test_hours_hbo = hour_data_prepration('hbo')\n",
    "_, X_test_hours_disney,_, Y_test_hours_disney = hour_data_prepration('disney')"
   ]
  },
  {
   "cell_type": "code",
   "execution_count": 376,
   "metadata": {},
   "outputs": [
    {
     "data": {
      "text/html": [
       "<style>#sk-container-id-47 {color: black;background-color: white;}#sk-container-id-47 pre{padding: 0;}#sk-container-id-47 div.sk-toggleable {background-color: white;}#sk-container-id-47 label.sk-toggleable__label {cursor: pointer;display: block;width: 100%;margin-bottom: 0;padding: 0.3em;box-sizing: border-box;text-align: center;}#sk-container-id-47 label.sk-toggleable__label-arrow:before {content: \"▸\";float: left;margin-right: 0.25em;color: #696969;}#sk-container-id-47 label.sk-toggleable__label-arrow:hover:before {color: black;}#sk-container-id-47 div.sk-estimator:hover label.sk-toggleable__label-arrow:before {color: black;}#sk-container-id-47 div.sk-toggleable__content {max-height: 0;max-width: 0;overflow: hidden;text-align: left;background-color: #f0f8ff;}#sk-container-id-47 div.sk-toggleable__content pre {margin: 0.2em;color: black;border-radius: 0.25em;background-color: #f0f8ff;}#sk-container-id-47 input.sk-toggleable__control:checked~div.sk-toggleable__content {max-height: 200px;max-width: 100%;overflow: auto;}#sk-container-id-47 input.sk-toggleable__control:checked~label.sk-toggleable__label-arrow:before {content: \"▾\";}#sk-container-id-47 div.sk-estimator input.sk-toggleable__control:checked~label.sk-toggleable__label {background-color: #d4ebff;}#sk-container-id-47 div.sk-label input.sk-toggleable__control:checked~label.sk-toggleable__label {background-color: #d4ebff;}#sk-container-id-47 input.sk-hidden--visually {border: 0;clip: rect(1px 1px 1px 1px);clip: rect(1px, 1px, 1px, 1px);height: 1px;margin: -1px;overflow: hidden;padding: 0;position: absolute;width: 1px;}#sk-container-id-47 div.sk-estimator {font-family: monospace;background-color: #f0f8ff;border: 1px dotted black;border-radius: 0.25em;box-sizing: border-box;margin-bottom: 0.5em;}#sk-container-id-47 div.sk-estimator:hover {background-color: #d4ebff;}#sk-container-id-47 div.sk-parallel-item::after {content: \"\";width: 100%;border-bottom: 1px solid gray;flex-grow: 1;}#sk-container-id-47 div.sk-label:hover label.sk-toggleable__label {background-color: #d4ebff;}#sk-container-id-47 div.sk-serial::before {content: \"\";position: absolute;border-left: 1px solid gray;box-sizing: border-box;top: 0;bottom: 0;left: 50%;z-index: 0;}#sk-container-id-47 div.sk-serial {display: flex;flex-direction: column;align-items: center;background-color: white;padding-right: 0.2em;padding-left: 0.2em;position: relative;}#sk-container-id-47 div.sk-item {position: relative;z-index: 1;}#sk-container-id-47 div.sk-parallel {display: flex;align-items: stretch;justify-content: center;background-color: white;position: relative;}#sk-container-id-47 div.sk-item::before, #sk-container-id-47 div.sk-parallel-item::before {content: \"\";position: absolute;border-left: 1px solid gray;box-sizing: border-box;top: 0;bottom: 0;left: 50%;z-index: -1;}#sk-container-id-47 div.sk-parallel-item {display: flex;flex-direction: column;z-index: 1;position: relative;background-color: white;}#sk-container-id-47 div.sk-parallel-item:first-child::after {align-self: flex-end;width: 50%;}#sk-container-id-47 div.sk-parallel-item:last-child::after {align-self: flex-start;width: 50%;}#sk-container-id-47 div.sk-parallel-item:only-child::after {width: 0;}#sk-container-id-47 div.sk-dashed-wrapped {border: 1px dashed gray;margin: 0 0.4em 0.5em 0.4em;box-sizing: border-box;padding-bottom: 0.4em;background-color: white;}#sk-container-id-47 div.sk-label label {font-family: monospace;font-weight: bold;display: inline-block;line-height: 1.2em;}#sk-container-id-47 div.sk-label-container {text-align: center;}#sk-container-id-47 div.sk-container {/* jupyter's `normalize.less` sets `[hidden] { display: none; }` but bootstrap.min.css set `[hidden] { display: none !important; }` so we also need the `!important` here to be able to override the default hidden behavior on the sphinx rendered scikit-learn.org. See: https://github.com/scikit-learn/scikit-learn/issues/21755 */display: inline-block !important;position: relative;}#sk-container-id-47 div.sk-text-repr-fallback {display: none;}</style><div id=\"sk-container-id-47\" class=\"sk-top-container\"><div class=\"sk-text-repr-fallback\"><pre>Ridge()</pre><b>In a Jupyter environment, please rerun this cell to show the HTML representation or trust the notebook. <br />On GitHub, the HTML representation is unable to render, please try loading this page with nbviewer.org.</b></div><div class=\"sk-container\" hidden><div class=\"sk-item\"><div class=\"sk-estimator sk-toggleable\"><input class=\"sk-toggleable__control sk-hidden--visually\" id=\"sk-estimator-id-57\" type=\"checkbox\" checked><label for=\"sk-estimator-id-57\" class=\"sk-toggleable__label sk-toggleable__label-arrow\">Ridge</label><div class=\"sk-toggleable__content\"><pre>Ridge()</pre></div></div></div></div></div>"
      ],
      "text/plain": [
       "Ridge()"
      ]
     },
     "execution_count": 376,
     "metadata": {},
     "output_type": "execute_result"
    }
   ],
   "source": [
    "ridge_model.fit(X_train_hours_net,Y_train_hours_net)"
   ]
  },
  {
   "cell_type": "code",
   "execution_count": 377,
   "metadata": {},
   "outputs": [
    {
     "name": "stdout",
     "output_type": "stream",
     "text": [
      "Wynik predykcji dla:\n",
      "HBO: -0.4090690229321632\n",
      "Disney: 0.9054377910424803\n",
      "Showtim: -1.6492897666794755\n"
     ]
    }
   ],
   "source": [
    "print(f\"Wynik predykcji dla:\\nHBO: {ridge_model.score(X_test_hours_hbo,Y_test_hours_hbo)}\\nDisney: {ridge_model.score(X_test_hours_disney,Y_test_hours_disney)}\\nShowtim: {ridge_model.score(X_test_hours_showtime,Y_test_hours_showtime)}\")"
   ]
  },
  {
   "attachments": {},
   "cell_type": "markdown",
   "metadata": {},
   "source": [
    "Jak widać istnieje zaleznosc, ze model dla netflixa wpasowuje się akceptowalnie dla danych testowych Disney. Sytuacja ta nie wystepuje w przypadku HBO i Showtime, takze sprawdzmy jak wyglada relacja miedzy tymi dwoma modelami"
   ]
  },
  {
   "cell_type": "code",
   "execution_count": 378,
   "metadata": {},
   "outputs": [],
   "source": [
    "X_train_hours_hbo, _, Y_train_hours_hbo,_ = hour_data_prepration('hbo')\n",
    "_, X_test_hours_showtime,_, Y_test_hours_showtime = hour_data_prepration('showtime')"
   ]
  },
  {
   "cell_type": "code",
   "execution_count": 379,
   "metadata": {},
   "outputs": [
    {
     "data": {
      "text/html": [
       "<style>#sk-container-id-48 {color: black;background-color: white;}#sk-container-id-48 pre{padding: 0;}#sk-container-id-48 div.sk-toggleable {background-color: white;}#sk-container-id-48 label.sk-toggleable__label {cursor: pointer;display: block;width: 100%;margin-bottom: 0;padding: 0.3em;box-sizing: border-box;text-align: center;}#sk-container-id-48 label.sk-toggleable__label-arrow:before {content: \"▸\";float: left;margin-right: 0.25em;color: #696969;}#sk-container-id-48 label.sk-toggleable__label-arrow:hover:before {color: black;}#sk-container-id-48 div.sk-estimator:hover label.sk-toggleable__label-arrow:before {color: black;}#sk-container-id-48 div.sk-toggleable__content {max-height: 0;max-width: 0;overflow: hidden;text-align: left;background-color: #f0f8ff;}#sk-container-id-48 div.sk-toggleable__content pre {margin: 0.2em;color: black;border-radius: 0.25em;background-color: #f0f8ff;}#sk-container-id-48 input.sk-toggleable__control:checked~div.sk-toggleable__content {max-height: 200px;max-width: 100%;overflow: auto;}#sk-container-id-48 input.sk-toggleable__control:checked~label.sk-toggleable__label-arrow:before {content: \"▾\";}#sk-container-id-48 div.sk-estimator input.sk-toggleable__control:checked~label.sk-toggleable__label {background-color: #d4ebff;}#sk-container-id-48 div.sk-label input.sk-toggleable__control:checked~label.sk-toggleable__label {background-color: #d4ebff;}#sk-container-id-48 input.sk-hidden--visually {border: 0;clip: rect(1px 1px 1px 1px);clip: rect(1px, 1px, 1px, 1px);height: 1px;margin: -1px;overflow: hidden;padding: 0;position: absolute;width: 1px;}#sk-container-id-48 div.sk-estimator {font-family: monospace;background-color: #f0f8ff;border: 1px dotted black;border-radius: 0.25em;box-sizing: border-box;margin-bottom: 0.5em;}#sk-container-id-48 div.sk-estimator:hover {background-color: #d4ebff;}#sk-container-id-48 div.sk-parallel-item::after {content: \"\";width: 100%;border-bottom: 1px solid gray;flex-grow: 1;}#sk-container-id-48 div.sk-label:hover label.sk-toggleable__label {background-color: #d4ebff;}#sk-container-id-48 div.sk-serial::before {content: \"\";position: absolute;border-left: 1px solid gray;box-sizing: border-box;top: 0;bottom: 0;left: 50%;z-index: 0;}#sk-container-id-48 div.sk-serial {display: flex;flex-direction: column;align-items: center;background-color: white;padding-right: 0.2em;padding-left: 0.2em;position: relative;}#sk-container-id-48 div.sk-item {position: relative;z-index: 1;}#sk-container-id-48 div.sk-parallel {display: flex;align-items: stretch;justify-content: center;background-color: white;position: relative;}#sk-container-id-48 div.sk-item::before, #sk-container-id-48 div.sk-parallel-item::before {content: \"\";position: absolute;border-left: 1px solid gray;box-sizing: border-box;top: 0;bottom: 0;left: 50%;z-index: -1;}#sk-container-id-48 div.sk-parallel-item {display: flex;flex-direction: column;z-index: 1;position: relative;background-color: white;}#sk-container-id-48 div.sk-parallel-item:first-child::after {align-self: flex-end;width: 50%;}#sk-container-id-48 div.sk-parallel-item:last-child::after {align-self: flex-start;width: 50%;}#sk-container-id-48 div.sk-parallel-item:only-child::after {width: 0;}#sk-container-id-48 div.sk-dashed-wrapped {border: 1px dashed gray;margin: 0 0.4em 0.5em 0.4em;box-sizing: border-box;padding-bottom: 0.4em;background-color: white;}#sk-container-id-48 div.sk-label label {font-family: monospace;font-weight: bold;display: inline-block;line-height: 1.2em;}#sk-container-id-48 div.sk-label-container {text-align: center;}#sk-container-id-48 div.sk-container {/* jupyter's `normalize.less` sets `[hidden] { display: none; }` but bootstrap.min.css set `[hidden] { display: none !important; }` so we also need the `!important` here to be able to override the default hidden behavior on the sphinx rendered scikit-learn.org. See: https://github.com/scikit-learn/scikit-learn/issues/21755 */display: inline-block !important;position: relative;}#sk-container-id-48 div.sk-text-repr-fallback {display: none;}</style><div id=\"sk-container-id-48\" class=\"sk-top-container\"><div class=\"sk-text-repr-fallback\"><pre>Ridge()</pre><b>In a Jupyter environment, please rerun this cell to show the HTML representation or trust the notebook. <br />On GitHub, the HTML representation is unable to render, please try loading this page with nbviewer.org.</b></div><div class=\"sk-container\" hidden><div class=\"sk-item\"><div class=\"sk-estimator sk-toggleable\"><input class=\"sk-toggleable__control sk-hidden--visually\" id=\"sk-estimator-id-58\" type=\"checkbox\" checked><label for=\"sk-estimator-id-58\" class=\"sk-toggleable__label sk-toggleable__label-arrow\">Ridge</label><div class=\"sk-toggleable__content\"><pre>Ridge()</pre></div></div></div></div></div>"
      ],
      "text/plain": [
       "Ridge()"
      ]
     },
     "execution_count": 379,
     "metadata": {},
     "output_type": "execute_result"
    }
   ],
   "source": [
    "ridge_model.fit(X_train_hours_hbo,Y_train_hours_hbo)"
   ]
  },
  {
   "cell_type": "code",
   "execution_count": 380,
   "metadata": {},
   "outputs": [
    {
     "data": {
      "text/plain": [
       "0.9043876670612427"
      ]
     },
     "execution_count": 380,
     "metadata": {},
     "output_type": "execute_result"
    }
   ],
   "source": [
    "ridge_model.score(X_test_hours_showtime,Y_test_hours_showtime)"
   ]
  },
  {
   "attachments": {},
   "cell_type": "markdown",
   "metadata": {},
   "source": [
    "Co ciekawe mozemy takze zauwazyc dobre dopasowanie cen akcji spolek HBO z cenami spolek akcji Showtime"
   ]
  },
  {
   "cell_type": "code",
   "execution_count": null,
   "metadata": {},
   "outputs": [],
   "source": []
  }
 ],
 "metadata": {
  "kernelspec": {
   "display_name": "Python 3",
   "language": "python",
   "name": "python3"
  },
  "language_info": {
   "codemirror_mode": {
    "name": "ipython",
    "version": 3
   },
   "file_extension": ".py",
   "mimetype": "text/x-python",
   "name": "python",
   "nbconvert_exporter": "python",
   "pygments_lexer": "ipython3",
   "version": "3.8.8"
  }
 },
 "nbformat": 4,
 "nbformat_minor": 2
}
